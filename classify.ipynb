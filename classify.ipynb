{
 "cells": [
  {
   "cell_type": "code",
   "execution_count": 1,
   "metadata": {
    "collapsed": true
   },
   "outputs": [],
   "source": [
    "import sys\n",
    "import os\n",
    "import numpy as np\n",
    "from cntk import Trainer, Axis\n",
    "from cntk.io import MinibatchSource, CTFDeserializer, StreamDef, StreamDefs,\\\n",
    "        INFINITELY_REPEAT\n",
    "from cntk.learners import sgd, learning_rate_schedule, UnitType\n",
    "from cntk import input_variable, cross_entropy_with_softmax, \\\n",
    "        classification_error, sequence\n",
    "from cntk.logging import ProgressPrinter\n",
    "from cntk.layers import Sequential, Embedding, Recurrence, LSTM, Dense"
   ]
  },
  {
   "cell_type": "code",
   "execution_count": 2,
   "metadata": {
    "collapsed": true
   },
   "outputs": [],
   "source": [
    "num_classes = 20"
   ]
  },
  {
   "cell_type": "code",
   "execution_count": 3,
   "metadata": {
    "collapsed": false
   },
   "outputs": [],
   "source": [
    "def read_data():\n",
    "    train_p = \"data/20ng-train-all-terms.txt\"\n",
    "    test_p = \"data/20ng-test-all-terms.txt\"\n",
    "\n",
    "    f_train = open(train_p)\n",
    "    f_test = open(test_p)\n",
    "    \n",
    "    train = f_train.readlines()\n",
    "    test = f_test.readlines()\n",
    "    \n",
    "    f_train.close()\n",
    "    f_test.close()\n",
    "    return train, test"
   ]
  },
  {
   "cell_type": "code",
   "execution_count": 4,
   "metadata": {
    "collapsed": false
   },
   "outputs": [],
   "source": [
    "def make_dataset(train, test):\n",
    "    labels = []\n",
    "    features = []\n",
    "    for n, line in enumerate(train, 1):\n",
    "        l = line.partition('\\t')\n",
    "        labels.append(l[0])\n",
    "        features.append(l[2].split(' '))\n",
    "    return features, labels\n",
    "\n",
    "    test_y = []\n",
    "    test_x = []\n",
    "    for n, line in enumerate(test, 1):\n",
    "        l = line.partition('\\t')\n",
    "        test_y.append(l[0])\n",
    "        test_x.append(l[2].split(' '))\n",
    "    return features, label"
   ]
  },
  {
   "cell_type": "code",
   "execution_count": 5,
   "metadata": {
    "collapsed": false
   },
   "outputs": [],
   "source": [
    "train, test = read_data()\n",
    "features, label_names = make_dataset(train, test)\n",
    "\n",
    "#Reads labels and one hot encode them\n",
    "from sklearn import preprocessing\n",
    "le = preprocessing.LabelEncoder()\n",
    "le.fit(label_names)\n",
    "labels_arr = le.fit_transform(label_names)\n",
    "\n",
    "labels = np.zeros((len(labels_arr), num_classes))\n",
    "for i in range(len(labels_arr)):\n",
    "    labels[i][labels_arr[i]] = 1"
   ]
  },
  {
   "cell_type": "code",
   "execution_count": 6,
   "metadata": {
    "collapsed": false
   },
   "outputs": [],
   "source": [
    "# Reads CBOW embeding file and converts it to a dictionary \n",
    "path_w2v = \"word2vect_dict\"\n",
    "file_w2v = open(path_w2v)\n",
    "lines = file_w2v.readlines()\n",
    "word2vec = {}\n",
    "dictionary, vector_len = lines[:-1].pop(0).split(' ')\n",
    "dictionary_len = int(dictionary)\n",
    "vector_len = int(vector_len)\n",
    "for l in lines:\n",
    "    arr = l[:-1].split(' ')\n",
    "    w = arr[0]\n",
    "    arr = list(map(float, arr[1:]))\n",
    "    word2vec[w] = arr"
   ]
  },
  {
   "cell_type": "code",
   "execution_count": 11,
   "metadata": {
    "collapsed": false
   },
   "outputs": [
    {
     "ename": "RuntimeError",
     "evalue": "Function 'Slice: Output('Slice1030_Output_0', [#, *], [1]) -> Unknown': Slice operation index range [1,2), interpreted as [1,2), is invalid for input 'Output('Slice1030_Output_0', [#, *], [1])' shape '[1]'.\n\n[CALL STACK]\n[0x7fc1afa07a5c]                                                       + 0x63ca5c\n[0x7fc1afa3a964]    CNTK::PrimitiveFunction::  InferOutputs  (std::vector<CNTK::Variable,std::allocator<CNTK::Variable>>&) + 0x4ec4\n[0x7fc1afa0ee12]                                                       + 0x643e12\n[0x7fc1dafcca99]                                                       + 0xea99\n[0x7fc1afa09ea3]    CNTK::Function::  InitOutputs  ()                  + 0x53\n[0x7fc1afa6df61]    CNTK::CompositeFunction::  InferOutputs  (std::vector<CNTK::Variable,std::allocator<CNTK::Variable>>&) + 0x11\n[0x7fc1afa0ee12]                                                       + 0x643e12\n[0x7fc1dafcca99]                                                       + 0xea99\n[0x7fc1afa09ea3]    CNTK::Function::  InitOutputs  ()                  + 0x53\n[0x7fc1afa0f5e8]    CNTK::  AsComposite  (std::shared_ptr<CNTK::Function> const&,  std::basic_string<wchar_t,std::char_traits<wchar_t>,std::allocator<wchar_t>> const&) + 0x2a8\n[0x7fc1afa12d54]    CNTK::  UnaryOp  (CNTK::PrimitiveOpType,  CNTK::Variable const&,  CNTK::Dictionary&&,  std::basic_string<wchar_t,std::char_traits<wchar_t>,std::allocator<wchar_t>> const&) + 0x144\n[0x7fc1afa15657]    CNTK::Internal::  Slice  (CNTK::Variable const&,  std::vector<CNTK::Axis,std::allocator<CNTK::Axis>> const&,  std::vector<int,std::allocator<int>> const&,  std::vector<int,std::allocator<int>> const&,  std::basic_string<wchar_t,std::char_traits<wchar_t>,std::allocator<wchar_t>> const&) + 0x247\n[0x7fc1afa1589d]    CNTK::  Slice  (CNTK::Variable const&,  std::vector<CNTK::Axis,std::allocator<CNTK::Axis>> const&,  std::vector<int,std::allocator<int>> const&,  std::vector<int,std::allocator<int>> const&,  std::basic_string<wchar_t,std::char_traits<wchar_t>,std::allocator<wchar_t>> const&) + 0x9d\n[0x7fc1b04329b3]                                                       + 0x2569b3\n[0x7fc1b0433d97]                                                       + 0x257d97\n[0x7fc1db2975e9]    PyCFunction_Call                                   + 0xf9\n[0x7fc1db31ebd5]    PyEval_EvalFrameEx                                 + 0x8fb5\n[0x7fc1db31fb49]                                                       + 0x144b49\n[0x7fc1db31fcd8]    PyEval_EvalCodeEx                                  + 0x48\n[0x7fc1db275661]                                                       + 0x9a661\n[0x7fc1db242236]    PyObject_Call                                      + 0x56\n[0x7fc1db31c234]    PyEval_EvalFrameEx                                 + 0x6614\n[0x7fc1db31fb49]                                                       + 0x144b49\n[0x7fc1db31edf5]    PyEval_EvalFrameEx                                 + 0x91d5\n[0x7fc1db31fb49]                                                       + 0x144b49\n[0x7fc1db31fcd8]    PyEval_EvalCodeEx                                  + 0x48\n[0x7fc1db275542]                                                       + 0x9a542\n[0x7fc1db242236]    PyObject_Call                                      + 0x56\n[0x7fc1db25e77c]                                                       + 0x8377c\n[0x7fc1db242236]    PyObject_Call                                      + 0x56\n[0x7fc1db2add6d]                                                       + 0xd2d6d\n[0x7fc1db276721]                                                       + 0x9b721\n[0x7fc1db31940b]    PyEval_EvalFrameEx                                 + 0x37eb\n[0x7fc1db31fb49]                                                       + 0x144b49\n[0x7fc1db31fcd8]    PyEval_EvalCodeEx                                  + 0x48\n[0x7fc1db31fd1b]    PyEval_EvalCode                                    + 0x3b\n[0x7fc1db312dfe]                                                       + 0x137dfe\n[0x7fc1db2975e9]    PyCFunction_Call                                   + 0xf9\n[0x7fc1db31ebd5]    PyEval_EvalFrameEx                                 + 0x8fb5\n[0x7fc1db31fb49]                                                       + 0x144b49\n[0x7fc1db31edf5]    PyEval_EvalFrameEx                                 + 0x91d5\n[0x7fc1db31fb49]                                                       + 0x144b49\n[0x7fc1db31edf5]    PyEval_EvalFrameEx                                 + 0x91d5\n[0x7fc1db31fb49]                                                       + 0x144b49\n[0x7fc1db31fcd8]    PyEval_EvalCodeEx                                  + 0x48\n[0x7fc1db275661]                                                       + 0x9a661\n[0x7fc1db242236]    PyObject_Call                                      + 0x56\n[0x7fc1db31c234]    PyEval_EvalFrameEx                                 + 0x6614\n[0x7fc1db31fb49]                                                       + 0x144b49\n[0x7fc1db31edf5]    PyEval_EvalFrameEx                                 + 0x91d5\n[0x7fc1db31fb49]                                                       + 0x144b49\n[0x7fc1db31edf5]    PyEval_EvalFrameEx                                 + 0x91d5\n[0x7fc1db31f166]    PyEval_EvalFrameEx                                 + 0x9546 (x2)\n[0x7fc1db31fb49]                                                       + 0x144b49\n[0x7fc1db31fcd8]    PyEval_EvalCodeEx                                  + 0x48\n[0x7fc1db275661]                                                       + 0x9a661\n[0x7fc1db242236]    PyObject_Call                                      + 0x56\n[0x7fc1db31c234]    PyEval_EvalFrameEx                                 + 0x6614\n[0x7fc1db31fb49]                                                       + 0x144b49\n[0x7fc1db31fcd8]    PyEval_EvalCodeEx                                  + 0x48\n[0x7fc1db275661]                                                       + 0x9a661\n[0x7fc1db242236]    PyObject_Call                                      + 0x56\n[0x7fc1db31c234]    PyEval_EvalFrameEx                                 + 0x6614\n[0x7fc1db31fb49]                                                       + 0x144b49\n[0x7fc1db31edf5]    PyEval_EvalFrameEx                                 + 0x91d5\n[0x7fc1db31f166]    PyEval_EvalFrameEx                                 + 0x9546\n[0x7fc1db31fb49]                                                       + 0x144b49\n[0x7fc1db31fcd8]    PyEval_EvalCodeEx                                  + 0x48\n[0x7fc1db275661]                                                       + 0x9a661\n[0x7fc1db242236]    PyObject_Call                                      + 0x56\n[0x7fc1db31c234]    PyEval_EvalFrameEx                                 + 0x6614\n[0x7fc1db31fb49]                                                       + 0x144b49\n[0x7fc1db31edf5]    PyEval_EvalFrameEx                                 + 0x91d5\n[0x7fc1db31f166]    PyEval_EvalFrameEx                                 + 0x9546\n[0x7fc1db31fb49]                                                       + 0x144b49\n[0x7fc1db31edf5]    PyEval_EvalFrameEx                                 + 0x91d5\n[0x7fc1db31f166]    PyEval_EvalFrameEx                                 + 0x9546\n[0x7fc1db31fb49]                                                       + 0x144b49\n[0x7fc1db31edf5]    PyEval_EvalFrameEx                                 + 0x91d5\n[0x7fc1db31fb49]                                                       + 0x144b49\n[0x7fc1db31fcd8]    PyEval_EvalCodeEx                                  + 0x48\n[0x7fc1db31fd1b]    PyEval_EvalCode                                    + 0x3b\n[0x7fc1db312dfe]                                                       + 0x137dfe\n[0x7fc1db2975e9]    PyCFunction_Call                                   + 0xf9\n[0x7fc1db31ebd5]    PyEval_EvalFrameEx                                 + 0x8fb5\n[0x7fc1db31fb49]                                                       + 0x144b49\n[0x7fc1db31edf5]    PyEval_EvalFrameEx                                 + 0x91d5\n[0x7fc1db31fb49]                                                       + 0x144b49\n[0x7fc1db31fcd8]    PyEval_EvalCodeEx                                  + 0x48\n[0x7fc1db275542]                                                       + 0x9a542\n[0x7fc1db242236]    PyObject_Call                                      + 0x56\n[0x7fc1db3608a2]                                                       + 0x1858a2\n[0x7fc1db361565]    Py_Main                                            + 0x945\n[0x400add]          main                                               + 0x15d\n[0x7fc1da2fd830]    __libc_start_main                                  + 0xf0\n[0x4008b9]                                                            \n",
     "output_type": "error",
     "traceback": [
      "\u001b[0;31m---------------------------------------------------------------------------\u001b[0m",
      "\u001b[0;31mRuntimeError\u001b[0m                              Traceback (most recent call last)",
      "\u001b[0;32m<ipython-input-11-745f3f7946af>\u001b[0m in \u001b[0;36m<module>\u001b[0;34m()\u001b[0m\n\u001b[1;32m      3\u001b[0m \u001b[0;32mfor\u001b[0m \u001b[0mfeat\u001b[0m \u001b[0;32min\u001b[0m \u001b[0mfeatures\u001b[0m\u001b[0;34m:\u001b[0m\u001b[0;34m\u001b[0m\u001b[0m\n\u001b[1;32m      4\u001b[0m     \u001b[0mseq\u001b[0m \u001b[0;34m=\u001b[0m \u001b[0;34m[\u001b[0m\u001b[0;34m]\u001b[0m\u001b[0;34m\u001b[0m\u001b[0m\n\u001b[0;32m----> 5\u001b[0;31m     \u001b[0;32mfor\u001b[0m \u001b[0mword\u001b[0m \u001b[0;32min\u001b[0m \u001b[0mfeat\u001b[0m\u001b[0;34m:\u001b[0m\u001b[0;34m\u001b[0m\u001b[0m\n\u001b[0m\u001b[1;32m      6\u001b[0m         \u001b[0mseq\u001b[0m \u001b[0;34m+=\u001b[0m \u001b[0;34m[\u001b[0m\u001b[0mword2vec\u001b[0m\u001b[0;34m.\u001b[0m\u001b[0mget\u001b[0m\u001b[0;34m(\u001b[0m\u001b[0mword\u001b[0m\u001b[0;34m,\u001b[0m \u001b[0;34m[\u001b[0m\u001b[0;36m0\u001b[0m\u001b[0;34m]\u001b[0m \u001b[0;34m*\u001b[0m \u001b[0mvector_len\u001b[0m\u001b[0;34m)\u001b[0m\u001b[0;34m]\u001b[0m\u001b[0;34m\u001b[0m\u001b[0m\n\u001b[1;32m      7\u001b[0m     \u001b[0mfeatures_vec\u001b[0m\u001b[0;34m.\u001b[0m\u001b[0mappend\u001b[0m\u001b[0;34m(\u001b[0m\u001b[0mnp\u001b[0m\u001b[0;34m.\u001b[0m\u001b[0marray\u001b[0m\u001b[0;34m(\u001b[0m\u001b[0mseq\u001b[0m\u001b[0;34m)\u001b[0m\u001b[0;34m)\u001b[0m\u001b[0;34m\u001b[0m\u001b[0m\n",
      "\u001b[0;32m/home/vlad/anaconda3/lib/python3.5/site-packages/cntk/tensor.py\u001b[0m in \u001b[0;36m__getitem__\u001b[0;34m(self, arg)\u001b[0m\n\u001b[1;32m    122\u001b[0m                 \u001b[0mend\u001b[0m   \u001b[0;34m=\u001b[0m \u001b[0ms\u001b[0m\u001b[0;34m.\u001b[0m\u001b[0mstop\u001b[0m  \u001b[0;32mor\u001b[0m \u001b[0;36m0\u001b[0m\u001b[0;34m\u001b[0m\u001b[0m\n\u001b[1;32m    123\u001b[0m                 \u001b[0;32mif\u001b[0m \u001b[0mbegin\u001b[0m \u001b[0;34m!=\u001b[0m \u001b[0;36m0\u001b[0m \u001b[0;32mor\u001b[0m \u001b[0mend\u001b[0m \u001b[0;34m!=\u001b[0m \u001b[0;36m0\u001b[0m\u001b[0;34m:\u001b[0m\u001b[0;34m\u001b[0m\u001b[0m\n\u001b[0;32m--> 124\u001b[0;31m                     \u001b[0mr\u001b[0m \u001b[0;34m=\u001b[0m \u001b[0mops\u001b[0m\u001b[0;34m.\u001b[0m\u001b[0mslice\u001b[0m\u001b[0;34m(\u001b[0m\u001b[0mr\u001b[0m\u001b[0;34m,\u001b[0m \u001b[0maxis\u001b[0m\u001b[0;34m=\u001b[0m\u001b[0maxis\u001b[0m \u001b[0;34m+\u001b[0m \u001b[0maxis0\u001b[0m\u001b[0;34m,\u001b[0m \u001b[0mbegin_index\u001b[0m\u001b[0;34m=\u001b[0m\u001b[0mbegin\u001b[0m\u001b[0;34m,\u001b[0m \u001b[0mend_index\u001b[0m\u001b[0;34m=\u001b[0m\u001b[0mend\u001b[0m\u001b[0;34m)\u001b[0m\u001b[0;34m\u001b[0m\u001b[0m\n\u001b[0m\u001b[1;32m    125\u001b[0m             \u001b[0;32melif\u001b[0m \u001b[0misinstance\u001b[0m\u001b[0;34m(\u001b[0m\u001b[0ms\u001b[0m\u001b[0;34m,\u001b[0m \u001b[0;34m(\u001b[0m\u001b[0mtuple\u001b[0m\u001b[0;34m,\u001b[0m \u001b[0mlist\u001b[0m\u001b[0;34m)\u001b[0m\u001b[0;34m)\u001b[0m\u001b[0;34m:\u001b[0m\u001b[0;34m\u001b[0m\u001b[0m\n\u001b[1;32m    126\u001b[0m                 \u001b[0;31m# Select multiple elements from the same dimension. This is\u001b[0m\u001b[0;34m\u001b[0m\u001b[0;34m\u001b[0m\u001b[0m\n",
      "\u001b[0;32m/home/vlad/anaconda3/lib/python3.5/site-packages/cntk/internal/swig_helper.py\u001b[0m in \u001b[0;36mwrapper\u001b[0;34m(*args, **kwds)\u001b[0m\n\u001b[1;32m     67\u001b[0m     \u001b[0;34m@\u001b[0m\u001b[0mwraps\u001b[0m\u001b[0;34m(\u001b[0m\u001b[0mf\u001b[0m\u001b[0;34m)\u001b[0m\u001b[0;34m\u001b[0m\u001b[0m\n\u001b[1;32m     68\u001b[0m     \u001b[0;32mdef\u001b[0m \u001b[0mwrapper\u001b[0m\u001b[0;34m(\u001b[0m\u001b[0;34m*\u001b[0m\u001b[0margs\u001b[0m\u001b[0;34m,\u001b[0m \u001b[0;34m**\u001b[0m\u001b[0mkwds\u001b[0m\u001b[0;34m)\u001b[0m\u001b[0;34m:\u001b[0m\u001b[0;34m\u001b[0m\u001b[0m\n\u001b[0;32m---> 69\u001b[0;31m         \u001b[0mresult\u001b[0m \u001b[0;34m=\u001b[0m \u001b[0mf\u001b[0m\u001b[0;34m(\u001b[0m\u001b[0;34m*\u001b[0m\u001b[0margs\u001b[0m\u001b[0;34m,\u001b[0m \u001b[0;34m**\u001b[0m\u001b[0mkwds\u001b[0m\u001b[0;34m)\u001b[0m\u001b[0;34m\u001b[0m\u001b[0m\n\u001b[0m\u001b[1;32m     70\u001b[0m         \u001b[0mmap_if_possible\u001b[0m\u001b[0;34m(\u001b[0m\u001b[0mresult\u001b[0m\u001b[0;34m)\u001b[0m\u001b[0;34m\u001b[0m\u001b[0m\n\u001b[1;32m     71\u001b[0m         \u001b[0;32mreturn\u001b[0m \u001b[0mresult\u001b[0m\u001b[0;34m\u001b[0m\u001b[0m\n",
      "\u001b[0;32m/home/vlad/anaconda3/lib/python3.5/site-packages/cntk/ops/__init__.py\u001b[0m in \u001b[0;36mslice\u001b[0;34m(x, axis, begin_index, end_index, name)\u001b[0m\n\u001b[1;32m   1924\u001b[0m     \u001b[0mbegin_index\u001b[0m \u001b[0;34m=\u001b[0m \u001b[0msanitize_shape\u001b[0m\u001b[0;34m(\u001b[0m\u001b[0mbegin_index\u001b[0m\u001b[0;34m)\u001b[0m\u001b[0;34m\u001b[0m\u001b[0m\n\u001b[1;32m   1925\u001b[0m     \u001b[0mend_index\u001b[0m \u001b[0;34m=\u001b[0m \u001b[0msanitize_shape\u001b[0m\u001b[0;34m(\u001b[0m\u001b[0mend_index\u001b[0m\u001b[0;34m)\u001b[0m\u001b[0;34m\u001b[0m\u001b[0m\n\u001b[0;32m-> 1926\u001b[0;31m     \u001b[0;32mreturn\u001b[0m \u001b[0mslice\u001b[0m\u001b[0;34m(\u001b[0m\u001b[0mx\u001b[0m\u001b[0;34m,\u001b[0m \u001b[0maxis\u001b[0m\u001b[0;34m,\u001b[0m \u001b[0mbegin_index\u001b[0m\u001b[0;34m,\u001b[0m \u001b[0mend_index\u001b[0m\u001b[0;34m,\u001b[0m \u001b[0mname\u001b[0m\u001b[0;34m)\u001b[0m\u001b[0;34m\u001b[0m\u001b[0m\n\u001b[0m\u001b[1;32m   1927\u001b[0m \u001b[0;34m\u001b[0m\u001b[0m\n\u001b[1;32m   1928\u001b[0m \u001b[0;31m# TODO: enable when it is exposed in c++\u001b[0m\u001b[0;34m\u001b[0m\u001b[0;34m\u001b[0m\u001b[0m\n",
      "\u001b[0;31mRuntimeError\u001b[0m: Function 'Slice: Output('Slice1030_Output_0', [#, *], [1]) -> Unknown': Slice operation index range [1,2), interpreted as [1,2), is invalid for input 'Output('Slice1030_Output_0', [#, *], [1])' shape '[1]'.\n\n[CALL STACK]\n[0x7fc1afa07a5c]                                                       + 0x63ca5c\n[0x7fc1afa3a964]    CNTK::PrimitiveFunction::  InferOutputs  (std::vector<CNTK::Variable,std::allocator<CNTK::Variable>>&) + 0x4ec4\n[0x7fc1afa0ee12]                                                       + 0x643e12\n[0x7fc1dafcca99]                                                       + 0xea99\n[0x7fc1afa09ea3]    CNTK::Function::  InitOutputs  ()                  + 0x53\n[0x7fc1afa6df61]    CNTK::CompositeFunction::  InferOutputs  (std::vector<CNTK::Variable,std::allocator<CNTK::Variable>>&) + 0x11\n[0x7fc1afa0ee12]                                                       + 0x643e12\n[0x7fc1dafcca99]                                                       + 0xea99\n[0x7fc1afa09ea3]    CNTK::Function::  InitOutputs  ()                  + 0x53\n[0x7fc1afa0f5e8]    CNTK::  AsComposite  (std::shared_ptr<CNTK::Function> const&,  std::basic_string<wchar_t,std::char_traits<wchar_t>,std::allocator<wchar_t>> const&) + 0x2a8\n[0x7fc1afa12d54]    CNTK::  UnaryOp  (CNTK::PrimitiveOpType,  CNTK::Variable const&,  CNTK::Dictionary&&,  std::basic_string<wchar_t,std::char_traits<wchar_t>,std::allocator<wchar_t>> const&) + 0x144\n[0x7fc1afa15657]    CNTK::Internal::  Slice  (CNTK::Variable const&,  std::vector<CNTK::Axis,std::allocator<CNTK::Axis>> const&,  std::vector<int,std::allocator<int>> const&,  std::vector<int,std::allocator<int>> const&,  std::basic_string<wchar_t,std::char_traits<wchar_t>,std::allocator<wchar_t>> const&) + 0x247\n[0x7fc1afa1589d]    CNTK::  Slice  (CNTK::Variable const&,  std::vector<CNTK::Axis,std::allocator<CNTK::Axis>> const&,  std::vector<int,std::allocator<int>> const&,  std::vector<int,std::allocator<int>> const&,  std::basic_string<wchar_t,std::char_traits<wchar_t>,std::allocator<wchar_t>> const&) + 0x9d\n[0x7fc1b04329b3]                                                       + 0x2569b3\n[0x7fc1b0433d97]                                                       + 0x257d97\n[0x7fc1db2975e9]    PyCFunction_Call                                   + 0xf9\n[0x7fc1db31ebd5]    PyEval_EvalFrameEx                                 + 0x8fb5\n[0x7fc1db31fb49]                                                       + 0x144b49\n[0x7fc1db31fcd8]    PyEval_EvalCodeEx                                  + 0x48\n[0x7fc1db275661]                                                       + 0x9a661\n[0x7fc1db242236]    PyObject_Call                                      + 0x56\n[0x7fc1db31c234]    PyEval_EvalFrameEx                                 + 0x6614\n[0x7fc1db31fb49]                                                       + 0x144b49\n[0x7fc1db31edf5]    PyEval_EvalFrameEx                                 + 0x91d5\n[0x7fc1db31fb49]                                                       + 0x144b49\n[0x7fc1db31fcd8]    PyEval_EvalCodeEx                                  + 0x48\n[0x7fc1db275542]                                                       + 0x9a542\n[0x7fc1db242236]    PyObject_Call                                      + 0x56\n[0x7fc1db25e77c]                                                       + 0x8377c\n[0x7fc1db242236]    PyObject_Call                                      + 0x56\n[0x7fc1db2add6d]                                                       + 0xd2d6d\n[0x7fc1db276721]                                                       + 0x9b721\n[0x7fc1db31940b]    PyEval_EvalFrameEx                                 + 0x37eb\n[0x7fc1db31fb49]                                                       + 0x144b49\n[0x7fc1db31fcd8]    PyEval_EvalCodeEx                                  + 0x48\n[0x7fc1db31fd1b]    PyEval_EvalCode                                    + 0x3b\n[0x7fc1db312dfe]                                                       + 0x137dfe\n[0x7fc1db2975e9]    PyCFunction_Call                                   + 0xf9\n[0x7fc1db31ebd5]    PyEval_EvalFrameEx                                 + 0x8fb5\n[0x7fc1db31fb49]                                                       + 0x144b49\n[0x7fc1db31edf5]    PyEval_EvalFrameEx                                 + 0x91d5\n[0x7fc1db31fb49]                                                       + 0x144b49\n[0x7fc1db31edf5]    PyEval_EvalFrameEx                                 + 0x91d5\n[0x7fc1db31fb49]                                                       + 0x144b49\n[0x7fc1db31fcd8]    PyEval_EvalCodeEx                                  + 0x48\n[0x7fc1db275661]                                                       + 0x9a661\n[0x7fc1db242236]    PyObject_Call                                      + 0x56\n[0x7fc1db31c234]    PyEval_EvalFrameEx                                 + 0x6614\n[0x7fc1db31fb49]                                                       + 0x144b49\n[0x7fc1db31edf5]    PyEval_EvalFrameEx                                 + 0x91d5\n[0x7fc1db31fb49]                                                       + 0x144b49\n[0x7fc1db31edf5]    PyEval_EvalFrameEx                                 + 0x91d5\n[0x7fc1db31f166]    PyEval_EvalFrameEx                                 + 0x9546 (x2)\n[0x7fc1db31fb49]                                                       + 0x144b49\n[0x7fc1db31fcd8]    PyEval_EvalCodeEx                                  + 0x48\n[0x7fc1db275661]                                                       + 0x9a661\n[0x7fc1db242236]    PyObject_Call                                      + 0x56\n[0x7fc1db31c234]    PyEval_EvalFrameEx                                 + 0x6614\n[0x7fc1db31fb49]                                                       + 0x144b49\n[0x7fc1db31fcd8]    PyEval_EvalCodeEx                                  + 0x48\n[0x7fc1db275661]                                                       + 0x9a661\n[0x7fc1db242236]    PyObject_Call                                      + 0x56\n[0x7fc1db31c234]    PyEval_EvalFrameEx                                 + 0x6614\n[0x7fc1db31fb49]                                                       + 0x144b49\n[0x7fc1db31edf5]    PyEval_EvalFrameEx                                 + 0x91d5\n[0x7fc1db31f166]    PyEval_EvalFrameEx                                 + 0x9546\n[0x7fc1db31fb49]                                                       + 0x144b49\n[0x7fc1db31fcd8]    PyEval_EvalCodeEx                                  + 0x48\n[0x7fc1db275661]                                                       + 0x9a661\n[0x7fc1db242236]    PyObject_Call                                      + 0x56\n[0x7fc1db31c234]    PyEval_EvalFrameEx                                 + 0x6614\n[0x7fc1db31fb49]                                                       + 0x144b49\n[0x7fc1db31edf5]    PyEval_EvalFrameEx                                 + 0x91d5\n[0x7fc1db31f166]    PyEval_EvalFrameEx                                 + 0x9546\n[0x7fc1db31fb49]                                                       + 0x144b49\n[0x7fc1db31edf5]    PyEval_EvalFrameEx                                 + 0x91d5\n[0x7fc1db31f166]    PyEval_EvalFrameEx                                 + 0x9546\n[0x7fc1db31fb49]                                                       + 0x144b49\n[0x7fc1db31edf5]    PyEval_EvalFrameEx                                 + 0x91d5\n[0x7fc1db31fb49]                                                       + 0x144b49\n[0x7fc1db31fcd8]    PyEval_EvalCodeEx                                  + 0x48\n[0x7fc1db31fd1b]    PyEval_EvalCode                                    + 0x3b\n[0x7fc1db312dfe]                                                       + 0x137dfe\n[0x7fc1db2975e9]    PyCFunction_Call                                   + 0xf9\n[0x7fc1db31ebd5]    PyEval_EvalFrameEx                                 + 0x8fb5\n[0x7fc1db31fb49]                                                       + 0x144b49\n[0x7fc1db31edf5]    PyEval_EvalFrameEx                                 + 0x91d5\n[0x7fc1db31fb49]                                                       + 0x144b49\n[0x7fc1db31fcd8]    PyEval_EvalCodeEx                                  + 0x48\n[0x7fc1db275542]                                                       + 0x9a542\n[0x7fc1db242236]    PyObject_Call                                      + 0x56\n[0x7fc1db3608a2]                                                       + 0x1858a2\n[0x7fc1db361565]    Py_Main                                            + 0x945\n[0x400add]          main                                               + 0x15d\n[0x7fc1da2fd830]    __libc_start_main                                  + 0xf0\n[0x4008b9]                                                            \n"
     ]
    }
   ],
   "source": [
    "# Replaces words by their vector representations \n",
    "features_vec = []\n",
    "for feat in features:\n",
    "    seq = []\n",
    "    for word in feat:\n",
    "        seq += [word2vec.get(word, [0] * vector_len)]\n",
    "    features_vec.append(np.array(seq))"
   ]
  },
  {
   "cell_type": "code",
   "execution_count": 8,
   "metadata": {
    "collapsed": false
   },
   "outputs": [],
   "source": [
    "#features_vec = np.array(features_vec)"
   ]
  },
  {
   "cell_type": "code",
   "execution_count": null,
   "metadata": {
    "collapsed": false
   },
   "outputs": [],
   "source": []
  },
  {
   "cell_type": "code",
   "execution_count": 9,
   "metadata": {
    "collapsed": true
   },
   "outputs": [],
   "source": [
    "# Defines the LSTM model for classifying sequences\n",
    "def LSTM_sequence_classifier_net(input, num_output_classes, embedding_dim,\n",
    "                                LSTM_dim, cell_dim):\n",
    "    lstm_classifier = Sequential([Embedding(embedding_dim),\n",
    "                                  Recurrence(LSTM(LSTM_dim, cell_dim)),\n",
    "                                  sequence.last,\n",
    "                                  Dense(num_output_classes)])\n",
    "    return lstm_classifier(input)"
   ]
  },
  {
   "cell_type": "code",
   "execution_count": 10,
   "metadata": {
    "collapsed": false
   },
   "outputs": [
    {
     "name": "stdout",
     "output_type": "stream",
     "text": [
      " average      since    average      since      examples\n",
      "    loss       last     metric       last              \n",
      " ------------------------------------------------------\n"
     ]
    },
    {
     "ename": "ValueError",
     "evalue": "dtype object is not supported. If this is a batch of sequences, you need to pass them as a pure-Python list of NumPy arrays",
     "output_type": "error",
     "traceback": [
      "\u001b[0;31m---------------------------------------------------------------------------\u001b[0m",
      "\u001b[0;31mValueError\u001b[0m                                Traceback (most recent call last)",
      "\u001b[0;32m<ipython-input-10-0731db297f64>\u001b[0m in \u001b[0;36m<module>\u001b[0;34m()\u001b[0m\n\u001b[1;32m     37\u001b[0m \u001b[0;32mfor\u001b[0m \u001b[0mi\u001b[0m \u001b[0;32min\u001b[0m \u001b[0mrange\u001b[0m\u001b[0;34m(\u001b[0m\u001b[0;36m1\u001b[0m\u001b[0;34m)\u001b[0m\u001b[0;34m:\u001b[0m\u001b[0;34m\u001b[0m\u001b[0m\n\u001b[1;32m     38\u001b[0m \u001b[0;34m\u001b[0m\u001b[0m\n\u001b[0;32m---> 39\u001b[0;31m     \u001b[0mtrainer\u001b[0m\u001b[0;34m.\u001b[0m\u001b[0mtrain_minibatch\u001b[0m\u001b[0;34m(\u001b[0m\u001b[0minput_map\u001b[0m\u001b[0;34m)\u001b[0m\u001b[0;34m\u001b[0m\u001b[0m\n\u001b[0m\u001b[1;32m     40\u001b[0m \u001b[0;34m\u001b[0m\u001b[0m\n\u001b[1;32m     41\u001b[0m \u001b[0mevaluation_average\u001b[0m \u001b[0;34m=\u001b[0m \u001b[0mfloat\u001b[0m\u001b[0;34m(\u001b[0m\u001b[0mtrainer\u001b[0m\u001b[0;34m.\u001b[0m\u001b[0mprevious_minibatch_evaluation_average\u001b[0m\u001b[0;34m)\u001b[0m\u001b[0;34m\u001b[0m\u001b[0m\n",
      "\u001b[0;32m/home/vlad/anaconda3/lib/python3.5/site-packages/cntk/train/trainer.py\u001b[0m in \u001b[0;36mtrain_minibatch\u001b[0;34m(self, arguments, outputs, device)\u001b[0m\n\u001b[1;32m    143\u001b[0m                 \u001b[0mall_args\u001b[0m \u001b[0;34m|=\u001b[0m \u001b[0mset\u001b[0m\u001b[0;34m(\u001b[0m\u001b[0mself\u001b[0m\u001b[0;34m.\u001b[0m\u001b[0mevaluation_function\u001b[0m\u001b[0;34m.\u001b[0m\u001b[0marguments\u001b[0m\u001b[0;34m)\u001b[0m\u001b[0;34m\u001b[0m\u001b[0m\n\u001b[1;32m    144\u001b[0m             arguments = sanitize_var_map(tuple(all_args), arguments,\n\u001b[0;32m--> 145\u001b[0;31m                 extract_values_from_minibatch_data = False, device=device)\n\u001b[0m\u001b[1;32m    146\u001b[0m \u001b[0;34m\u001b[0m\u001b[0m\n\u001b[1;32m    147\u001b[0m         \u001b[0mcontains_minibatch_data\u001b[0m \u001b[0;34m=\u001b[0m \u001b[0;32mFalse\u001b[0m\u001b[0;34m\u001b[0m\u001b[0m\n",
      "\u001b[0;32m/home/vlad/anaconda3/lib/python3.5/site-packages/cntk/internal/sanitize.py\u001b[0m in \u001b[0;36msanitize_var_map\u001b[0;34m(op_arguments, arguments, precision, device, extract_values_from_minibatch_data)\u001b[0m\n\u001b[1;32m    429\u001b[0m \u001b[0;34m\u001b[0m\u001b[0m\n\u001b[1;32m    430\u001b[0m         \u001b[0;32mif\u001b[0m \u001b[0;32mnot\u001b[0m \u001b[0;34m(\u001b[0m\u001b[0misinstance\u001b[0m\u001b[0;34m(\u001b[0m\u001b[0mbatch\u001b[0m\u001b[0;34m,\u001b[0m \u001b[0mMinibatchData\u001b[0m\u001b[0;34m)\u001b[0m \u001b[0;32mor\u001b[0m \u001b[0misinstance\u001b[0m\u001b[0;34m(\u001b[0m\u001b[0mbatch\u001b[0m\u001b[0;34m,\u001b[0m \u001b[0mcntk_py\u001b[0m\u001b[0;34m.\u001b[0m\u001b[0mValue\u001b[0m\u001b[0;34m)\u001b[0m\u001b[0;34m)\u001b[0m\u001b[0;34m:\u001b[0m\u001b[0;34m\u001b[0m\u001b[0m\n\u001b[0;32m--> 431\u001b[0;31m             \u001b[0mbatch\u001b[0m \u001b[0;34m=\u001b[0m \u001b[0msanitize_batch\u001b[0m\u001b[0;34m(\u001b[0m\u001b[0mvar\u001b[0m\u001b[0;34m,\u001b[0m \u001b[0mbatch\u001b[0m\u001b[0;34m,\u001b[0m \u001b[0mseq_starts\u001b[0m\u001b[0;34m,\u001b[0m \u001b[0mdevice\u001b[0m\u001b[0;34m)\u001b[0m\u001b[0;34m\u001b[0m\u001b[0m\n\u001b[0m\u001b[1;32m    432\u001b[0m \u001b[0;34m\u001b[0m\u001b[0m\n\u001b[1;32m    433\u001b[0m         \u001b[0mvar_map\u001b[0m\u001b[0;34m[\u001b[0m\u001b[0mvar\u001b[0m\u001b[0;34m]\u001b[0m \u001b[0;34m=\u001b[0m \u001b[0mbatch\u001b[0m\u001b[0;34m\u001b[0m\u001b[0m\n",
      "\u001b[0;32m/home/vlad/anaconda3/lib/python3.5/site-packages/cntk/internal/swig_helper.py\u001b[0m in \u001b[0;36mwrapper\u001b[0;34m(*args, **kwds)\u001b[0m\n\u001b[1;32m     67\u001b[0m     \u001b[0;34m@\u001b[0m\u001b[0mwraps\u001b[0m\u001b[0;34m(\u001b[0m\u001b[0mf\u001b[0m\u001b[0;34m)\u001b[0m\u001b[0;34m\u001b[0m\u001b[0m\n\u001b[1;32m     68\u001b[0m     \u001b[0;32mdef\u001b[0m \u001b[0mwrapper\u001b[0m\u001b[0;34m(\u001b[0m\u001b[0;34m*\u001b[0m\u001b[0margs\u001b[0m\u001b[0;34m,\u001b[0m \u001b[0;34m**\u001b[0m\u001b[0mkwds\u001b[0m\u001b[0;34m)\u001b[0m\u001b[0;34m:\u001b[0m\u001b[0;34m\u001b[0m\u001b[0m\n\u001b[0;32m---> 69\u001b[0;31m         \u001b[0mresult\u001b[0m \u001b[0;34m=\u001b[0m \u001b[0mf\u001b[0m\u001b[0;34m(\u001b[0m\u001b[0;34m*\u001b[0m\u001b[0margs\u001b[0m\u001b[0;34m,\u001b[0m \u001b[0;34m**\u001b[0m\u001b[0mkwds\u001b[0m\u001b[0;34m)\u001b[0m\u001b[0;34m\u001b[0m\u001b[0m\n\u001b[0m\u001b[1;32m     70\u001b[0m         \u001b[0mmap_if_possible\u001b[0m\u001b[0;34m(\u001b[0m\u001b[0mresult\u001b[0m\u001b[0;34m)\u001b[0m\u001b[0;34m\u001b[0m\u001b[0m\n\u001b[1;32m     71\u001b[0m         \u001b[0;32mreturn\u001b[0m \u001b[0mresult\u001b[0m\u001b[0;34m\u001b[0m\u001b[0m\n",
      "\u001b[0;32m/home/vlad/anaconda3/lib/python3.5/site-packages/cntk/internal/sanitize.py\u001b[0m in \u001b[0;36msanitize_batch\u001b[0;34m(var, batch, seq_starts, device)\u001b[0m\n\u001b[1;32m    198\u001b[0m \u001b[0;34m\u001b[0m\u001b[0m\n\u001b[1;32m    199\u001b[0m     \u001b[0;32mfrom\u001b[0m \u001b[0;34m.\u001b[0m\u001b[0;34m.\u001b[0m \u001b[0;32mimport\u001b[0m \u001b[0mValue\u001b[0m\u001b[0;34m\u001b[0m\u001b[0m\n\u001b[0;32m--> 200\u001b[0;31m     \u001b[0;32mreturn\u001b[0m \u001b[0mValue\u001b[0m\u001b[0;34m.\u001b[0m\u001b[0mcreate\u001b[0m\u001b[0;34m(\u001b[0m\u001b[0mvar\u001b[0m\u001b[0;34m,\u001b[0m \u001b[0mbatch\u001b[0m\u001b[0;34m,\u001b[0m \u001b[0mseq_starts\u001b[0m\u001b[0;34m,\u001b[0m \u001b[0mdevice\u001b[0m\u001b[0;34m)\u001b[0m\u001b[0;34m\u001b[0m\u001b[0m\n\u001b[0m\u001b[1;32m    201\u001b[0m \u001b[0;34m\u001b[0m\u001b[0m\n\u001b[1;32m    202\u001b[0m \u001b[0;34m\u001b[0m\u001b[0m\n",
      "\u001b[0;32m/home/vlad/anaconda3/lib/python3.5/site-packages/cntk/internal/swig_helper.py\u001b[0m in \u001b[0;36mwrapper\u001b[0;34m(*args, **kwds)\u001b[0m\n\u001b[1;32m     67\u001b[0m     \u001b[0;34m@\u001b[0m\u001b[0mwraps\u001b[0m\u001b[0;34m(\u001b[0m\u001b[0mf\u001b[0m\u001b[0;34m)\u001b[0m\u001b[0;34m\u001b[0m\u001b[0m\n\u001b[1;32m     68\u001b[0m     \u001b[0;32mdef\u001b[0m \u001b[0mwrapper\u001b[0m\u001b[0;34m(\u001b[0m\u001b[0;34m*\u001b[0m\u001b[0margs\u001b[0m\u001b[0;34m,\u001b[0m \u001b[0;34m**\u001b[0m\u001b[0mkwds\u001b[0m\u001b[0;34m)\u001b[0m\u001b[0;34m:\u001b[0m\u001b[0;34m\u001b[0m\u001b[0m\n\u001b[0;32m---> 69\u001b[0;31m         \u001b[0mresult\u001b[0m \u001b[0;34m=\u001b[0m \u001b[0mf\u001b[0m\u001b[0;34m(\u001b[0m\u001b[0;34m*\u001b[0m\u001b[0margs\u001b[0m\u001b[0;34m,\u001b[0m \u001b[0;34m**\u001b[0m\u001b[0mkwds\u001b[0m\u001b[0;34m)\u001b[0m\u001b[0;34m\u001b[0m\u001b[0m\n\u001b[0m\u001b[1;32m     70\u001b[0m         \u001b[0mmap_if_possible\u001b[0m\u001b[0;34m(\u001b[0m\u001b[0mresult\u001b[0m\u001b[0;34m)\u001b[0m\u001b[0;34m\u001b[0m\u001b[0m\n\u001b[1;32m     71\u001b[0m         \u001b[0;32mreturn\u001b[0m \u001b[0mresult\u001b[0m\u001b[0;34m\u001b[0m\u001b[0m\n",
      "\u001b[0;32m/home/vlad/anaconda3/lib/python3.5/site-packages/cntk/core.py\u001b[0m in \u001b[0;36mcreate\u001b[0;34m(var, data, seq_starts, device, read_only)\u001b[0m\n\u001b[1;32m    408\u001b[0m             \u001b[0;31m# full minibatch as one NumPy array, we have to convert it.\u001b[0m\u001b[0;34m\u001b[0m\u001b[0;34m\u001b[0m\u001b[0m\n\u001b[1;32m    409\u001b[0m             \u001b[0;32mif\u001b[0m \u001b[0mdata\u001b[0m\u001b[0;34m.\u001b[0m\u001b[0mdtype\u001b[0m \u001b[0;34m==\u001b[0m \u001b[0mobject\u001b[0m\u001b[0;34m:\u001b[0m\u001b[0;34m\u001b[0m\u001b[0m\n\u001b[0;32m--> 410\u001b[0;31m                 raise ValueError('dtype object is not supported. If this is a '\n\u001b[0m\u001b[1;32m    411\u001b[0m                                  \u001b[0;34m'batch of sequences, you need to pass them as a '\u001b[0m\u001b[0;34m\u001b[0m\u001b[0m\n\u001b[1;32m    412\u001b[0m                                  'pure-Python list of NumPy arrays')\n",
      "\u001b[0;31mValueError\u001b[0m: dtype object is not supported. If this is a batch of sequences, you need to pass them as a pure-Python list of NumPy arrays"
     ]
    }
   ],
   "source": [
    "# Creates and trains a LSTM sequence classification model\n",
    "input_dim = 100\n",
    "cell_dim = 25\n",
    "hidden_dim = 25\n",
    "embedding_dim = 50\n",
    "\n",
    "num_output_classes = 20\n",
    "\n",
    "# Input variables denoting the features and label data\n",
    "features = sequence.input_variable(shape=input_dim, is_sparse=True)\n",
    "label = input_variable(num_output_classes)\n",
    "\n",
    "# Instantiate the sequence classification model\n",
    "classifier_output = LSTM_sequence_classifier_net(\n",
    "        features, num_output_classes, embedding_dim, hidden_dim, cell_dim)\n",
    "\n",
    "    \n",
    "ce = cross_entropy_with_softmax(classifier_output, label)\n",
    "pe = classification_error(classifier_output, label)\n",
    " \n",
    "input_map = {\n",
    "        features: features_vec,\n",
    "        label:    labels\n",
    "}    \n",
    "    \n",
    "lr_per_sample = learning_rate_schedule(0.0005, UnitType.sample)\n",
    "    \n",
    "# Instantiate the trainer object to drive the model training\n",
    "progress_printer = ProgressPrinter(0)\n",
    "trainer = Trainer(classifier_output, (ce, pe),\n",
    "                      sgd(classifier_output.parameters, lr=lr_per_sample),\n",
    "                      progress_printer)\n",
    "\n",
    "# Get minibatches of sequences to train with and perform model training\n",
    "minibatch_size = 200\n",
    "\n",
    "for i in range(1):\n",
    "    \n",
    "    trainer.train_minibatch(input_map)\n",
    "\n",
    "evaluation_average = float(trainer.previous_minibatch_evaluation_average)\n",
    "loss_average = float(trainer.previous_minibatch_loss_average)\n"
   ]
  },
  {
   "cell_type": "code",
   "execution_count": null,
   "metadata": {
    "collapsed": false
   },
   "outputs": [],
   "source": []
  },
  {
   "cell_type": "code",
   "execution_count": null,
   "metadata": {
    "collapsed": false
   },
   "outputs": [],
   "source": []
  },
  {
   "cell_type": "code",
   "execution_count": 4,
   "metadata": {
    "collapsed": true
   },
   "outputs": [],
   "source": [
    "def create_reader(path, is_training, input_dim, label_dim):\n",
    "    return MinibatchSource(CTFDeserializer(path, StreamDefs(\n",
    "        features=StreamDef(field='x', shape=input_dim, is_sparse=True),\n",
    "        labels=StreamDef(field='y', shape=label_dim, is_sparse=False)\n",
    "        )), randomize=is_training,\n",
    "        max_sweeps=INFINITELY_REPEAT if is_training else 1)"
   ]
  },
  {
   "cell_type": "code",
   "execution_count": null,
   "metadata": {
    "collapsed": false
   },
   "outputs": [],
   "source": []
  },
  {
   "cell_type": "raw",
   "metadata": {},
   "source": []
  }
 ],
 "metadata": {
  "anaconda-cloud": {},
  "kernelspec": {
   "display_name": "Python [default]",
   "language": "python",
   "name": "python3"
  },
  "language_info": {
   "codemirror_mode": {
    "name": "ipython",
    "version": 3
   },
   "file_extension": ".py",
   "mimetype": "text/x-python",
   "name": "python",
   "nbconvert_exporter": "python",
   "pygments_lexer": "ipython3",
   "version": "3.5.2"
  }
 },
 "nbformat": 4,
 "nbformat_minor": 1
}

{
 "cells": [
  {
   "cell_type": "code",
   "execution_count": 1,
   "metadata": {
    "collapsed": true
   },
   "outputs": [],
   "source": [
    "import sys\n",
    "import os\n",
    "import numpy as np\n",
    "from cntk import Trainer, Axis\n",
    "from cntk.io import MinibatchSource, CTFDeserializer, StreamDef, StreamDefs,\\\n",
    "        INFINITELY_REPEAT\n",
    "from cntk.learners import sgd, learning_rate_schedule, UnitType\n",
    "from cntk import input_variable, cross_entropy_with_softmax, \\\n",
    "        classification_error, sequence\n",
    "from cntk.logging import ProgressPrinter\n",
    "from cntk.layers import Sequential, Embedding, Recurrence, LSTM, Dense"
   ]
  },
  {
   "cell_type": "code",
   "execution_count": 2,
   "metadata": {
    "collapsed": true
   },
   "outputs": [],
   "source": [
    "num_classes = 20"
   ]
  },
  {
   "cell_type": "code",
   "execution_count": 3,
   "metadata": {
    "collapsed": false
   },
   "outputs": [],
   "source": [
    "def read_data():\n",
    "    train_p = \"data/20ng-train-all-terms.txt\"\n",
    "    test_p = \"data/20ng-test-all-terms.txt\"\n",
    "\n",
    "    f_train = open(train_p)\n",
    "    f_test = open(test_p)\n",
    "    \n",
    "    train = f_train.readlines()\n",
    "    test = f_test.readlines()\n",
    "    \n",
    "    f_train.close()\n",
    "    f_test.close()\n",
    "    return train, test"
   ]
  },
  {
   "cell_type": "code",
   "execution_count": 4,
   "metadata": {
    "collapsed": false
   },
   "outputs": [],
   "source": [
    "def make_dataset(train, test):\n",
    "    labels = []\n",
    "    features = []\n",
    "    for n, line in enumerate(train, 1):\n",
    "        l = line.partition('\\t')\n",
    "        labels.append(l[0])\n",
    "        features.append(l[2].split(' '))\n",
    "    return features, labels\n",
    "\n",
    "    test_y = []\n",
    "    test_x = []\n",
    "    for n, line in enumerate(test, 1):\n",
    "        l = line.partition('\\t')\n",
    "        test_y.append(l[0])\n",
    "        test_x.append(l[2].split(' '))\n",
    "    return features, label"
   ]
  },
  {
   "cell_type": "code",
   "execution_count": 5,
   "metadata": {
    "collapsed": false
   },
   "outputs": [],
   "source": [
    "train, test = read_data()\n",
    "features, label_names = make_dataset(train, test)\n",
    "\n",
    "#Reads labels and one hot encode them\n",
    "from sklearn import preprocessing\n",
    "le = preprocessing.LabelEncoder()\n",
    "le.fit(label_names)\n",
    "labels_arr = le.fit_transform(label_names)\n",
    "\n",
    "labels = np.zeros((len(labels_arr), num_classes))\n",
    "for i in range(len(labels_arr)):\n",
    "    labels[i][labels_arr[i]] = 1"
   ]
  },
  {
   "cell_type": "code",
   "execution_count": 13,
   "metadata": {
    "collapsed": false
   },
   "outputs": [],
   "source": [
    "# Reads CBOW embeding file and converts it to a dictionary \n",
    "path_w2v = \"word2vect_dict\"\n",
    "file_w2v = open(path_w2v)\n",
    "lines = file_w2v.readlines()\n",
    "word2vec = {}\n",
    "dictionary, vector_len = lines[:-1].pop(0).split(' ')\n",
    "dictionary_len = int(dictionary)\n",
    "vector_len = int(vector_len)\n",
    "for l in lines:\n",
    "    arr = l[:-1].split(' ')\n",
    "    word2vec[arr[0]] = arr[1:]"
   ]
  },
  {
   "cell_type": "code",
   "execution_count": 7,
   "metadata": {
    "collapsed": false
   },
   "outputs": [],
   "source": [
    "# Replaces words by their vector representations \n",
    "features_vec = []\n",
    "for feat in features:\n",
    "    seq = []\n",
    "    for word in feat:\n",
    "        seq.append(word2vec.get(word, np.zeros((1, vector_len))))\n",
    "    features_vec.append(np.array(seq))\n",
    "            "
   ]
  },
  {
   "cell_type": "code",
   "execution_count": 8,
   "metadata": {
    "collapsed": false
   },
   "outputs": [],
   "source": [
    "features_vec = np.array(features_vec)"
   ]
  },
  {
   "cell_type": "code",
   "execution_count": null,
   "metadata": {
    "collapsed": true
   },
   "outputs": [],
   "source": []
  },
  {
   "cell_type": "code",
   "execution_count": 9,
   "metadata": {
    "collapsed": true
   },
   "outputs": [],
   "source": [
    "# Defines the LSTM model for classifying sequences\n",
    "def LSTM_sequence_classifier_net(input, num_output_classes, embedding_dim,\n",
    "                                LSTM_dim, cell_dim):\n",
    "    lstm_classifier = Sequential([Embedding(embedding_dim),\n",
    "                                  Recurrence(LSTM(LSTM_dim, cell_dim)),\n",
    "                                  sequence.last,\n",
    "                                  Dense(num_output_classes)])\n",
    "    return lstm_classifier(input)"
   ]
  },
  {
   "cell_type": "code",
   "execution_count": 14,
   "metadata": {
    "collapsed": false
   },
   "outputs": [
    {
     "ename": "RuntimeError",
     "evalue": "PastValue/FutureValue Function 'FutureValue: Output('ReconcileDynamicAxis3559_Output_0', [#], []) -> Output('FutureValue3561_Output_0', [???], [???])': Input operand 'Output('ReconcileDynamicAxis3559_Output_0', [#], [])' with #dynamic axes != 2 (1 sequence axis and 1 batch axis) is not supported.\n\n[CALL STACK]\n[0x7f518ab0563c]                                                       + 0x63c63c\n[0x7f518ab36904]    CNTK::PrimitiveFunction::  InferOutputs  (std::vector<CNTK::Variable,std::allocator<CNTK::Variable>>&) + 0x2e64\n[0x7f518ab0a9b9]    CNTK::Function::  ValidateOrUpdateOutputs  (std::unordered_map<CNTK::Function const*,unsigned long,std::hash<CNTK::Function const*>,std::equal_to<CNTK::Function const*>,std::allocator<std::pair<CNTK::Function const* const,unsigned long>>>&,  bool&,  std::vector<CNTK::Variable,std::allocator<CNTK::Variable>>&) + 0x1c9\n[0x7f518ab0a94c]    CNTK::Function::  ValidateOrUpdateOutputs  (std::unordered_map<CNTK::Function const*,unsigned long,std::hash<CNTK::Function const*>,std::equal_to<CNTK::Function const*>,std::allocator<std::pair<CNTK::Function const* const,unsigned long>>>&,  bool&,  std::vector<CNTK::Variable,std::allocator<CNTK::Variable>>&) + 0x15c (x3)\n[0x7f518ab0e33b]    CNTK::Function::  ValidateOrUpdateOutputs  ()      + 0xfb\n[0x7f518ab0f1dc]    CNTK::Function::  ReplacePlaceholders  (std::unordered_map<CNTK::Variable,CNTK::Variable,std::hash<CNTK::Variable>,std::equal_to<CNTK::Variable>,std::allocator<std::pair<CNTK::Variable const,CNTK::Variable>>> const&) + 0xdc\n[0x7f518ab29787]    CNTK::BlockFunction::  InferOutputs  (std::vector<CNTK::Variable,std::allocator<CNTK::Variable>>&) + 0x157\n[0x7f518ab0ce12]                                                       + 0x643e12\n[0x7f51b607aa99]                                                       + 0xea99\n[0x7f518ab07ea3]    CNTK::Function::  InitOutputs  ()                  + 0x53\n[0x7f518ab082b9]    CNTK::  GetCorrespondingOutputVariableFromClone  (CNTK::Variable const&,  std::shared_ptr<CNTK::Function> const&,  std::shared_ptr<CNTK::Function> const&) + 0x89\n[0x7f518ab2007c]    CNTK::Function::  Clone  (std::shared_ptr<CNTK::Function> const&,  CNTK::ParameterCloningMethod,  std::unordered_map<CNTK::Variable,CNTK::Variable,std::hash<CNTK::Variable>,std::equal_to<CNTK::Variable>,std::allocator<std::pair<CNTK::Variable const,CNTK::Variable>>> const&,  std::unordered_map<CNTK::Function const*,std::shared_ptr<CNTK::Function>,std::hash<CNTK::Function const*>,std::equal_to<CNTK::Function const*>,std::allocator<std::pair<CNTK::Function const* const,std::shared_ptr<CNTK::Function>>>>&,  std::unordered_map<CNTK::Variable,CNTK::Variable,std::hash<CNTK::Variable>,std::equal_to<CNTK::Variable>,std::allocator<std::pair<CNTK::Variable const,CNTK::Variable>>>&,  std::unordered_map<CNTK::Variable,CNTK::Variable,std::hash<CNTK::Variable>,std::equal_to<CNTK::Variable>,std::allocator<std::pair<CNTK::Variable const,CNTK::Variable>>>&) + 0xf5c\n[0x7f518ab20f2c]    CNTK::Function::  Clone  (CNTK::ParameterCloningMethod,  std::unordered_map<CNTK::Variable,CNTK::Variable,std::hash<CNTK::Variable>,std::equal_to<CNTK::Variable>,std::allocator<std::pair<CNTK::Variable const,CNTK::Variable>>> const&) const + 0x4dc\n[0x7f518b4c15ef]                                                       + 0x1e75ef\n[0x7f518b4c1cc8]                                                       + 0x1e7cc8\n[0x7f51b63455e9]    PyCFunction_Call                                   + 0xf9\n[0x7f51b63ca7c0]    PyEval_EvalFrameEx                                 + 0x6ba0\n[0x7f51b63cdb49]                                                       + 0x144b49\n[0x7f51b63ccdf5]    PyEval_EvalFrameEx                                 + 0x91d5\n[0x7f51b63cdb49]                                                       + 0x144b49\n[0x7f51b63cdcd8]    PyEval_EvalCodeEx                                  + 0x48\n[0x7f51b6323661]                                                       + 0x9a661\n[0x7f51b62f0236]    PyObject_Call                                      + 0x56\n[0x7f51b63ca234]    PyEval_EvalFrameEx                                 + 0x6614\n[0x7f51b63cdb49]                                                       + 0x144b49\n[0x7f51b63ccdf5]    PyEval_EvalFrameEx                                 + 0x91d5\n[0x7f51b63cdb49]                                                       + 0x144b49\n[0x7f51b63cdcd8]    PyEval_EvalCodeEx                                  + 0x48\n[0x7f51b6323542]                                                       + 0x9a542\n[0x7f51b62f0236]    PyObject_Call                                      + 0x56\n[0x7f51b630c77c]                                                       + 0x8377c\n[0x7f51b62f0236]    PyObject_Call                                      + 0x56\n[0x7f51b6360e3f]                                                       + 0xd7e3f\n[0x7f51b62f0236]    PyObject_Call                                      + 0x56\n[0x7f51b63ca314]    PyEval_EvalFrameEx                                 + 0x66f4\n[0x7f51b63cd166]    PyEval_EvalFrameEx                                 + 0x9546\n[0x7f51b63cdb49]                                                       + 0x144b49\n[0x7f51b63cdcd8]    PyEval_EvalCodeEx                                  + 0x48\n[0x7f51b63cdd1b]    PyEval_EvalCode                                    + 0x3b\n[0x7f51b63c0dfe]                                                       + 0x137dfe\n[0x7f51b63455e9]    PyCFunction_Call                                   + 0xf9\n[0x7f51b63ccbd5]    PyEval_EvalFrameEx                                 + 0x8fb5\n[0x7f51b63cdb49]                                                       + 0x144b49\n[0x7f51b63ccdf5]    PyEval_EvalFrameEx                                 + 0x91d5\n[0x7f51b63cdb49]                                                       + 0x144b49\n[0x7f51b63ccdf5]    PyEval_EvalFrameEx                                 + 0x91d5\n[0x7f51b63cdb49]                                                       + 0x144b49\n[0x7f51b63cdcd8]    PyEval_EvalCodeEx                                  + 0x48\n[0x7f51b6323661]                                                       + 0x9a661\n[0x7f51b62f0236]    PyObject_Call                                      + 0x56\n[0x7f51b63ca234]    PyEval_EvalFrameEx                                 + 0x6614\n[0x7f51b63cdb49]                                                       + 0x144b49\n[0x7f51b63ccdf5]    PyEval_EvalFrameEx                                 + 0x91d5\n[0x7f51b63cdb49]                                                       + 0x144b49\n[0x7f51b63ccdf5]    PyEval_EvalFrameEx                                 + 0x91d5\n[0x7f51b63cd166]    PyEval_EvalFrameEx                                 + 0x9546 (x2)\n[0x7f51b63cdb49]                                                       + 0x144b49\n[0x7f51b63cdcd8]    PyEval_EvalCodeEx                                  + 0x48\n[0x7f51b6323661]                                                       + 0x9a661\n[0x7f51b62f0236]    PyObject_Call                                      + 0x56\n[0x7f51b63ca234]    PyEval_EvalFrameEx                                 + 0x6614\n[0x7f51b63cdb49]                                                       + 0x144b49\n[0x7f51b63cdcd8]    PyEval_EvalCodeEx                                  + 0x48\n[0x7f51b6323661]                                                       + 0x9a661\n[0x7f51b62f0236]    PyObject_Call                                      + 0x56\n[0x7f51b63ca234]    PyEval_EvalFrameEx                                 + 0x6614\n[0x7f51b63cdb49]                                                       + 0x144b49\n[0x7f51b63ccdf5]    PyEval_EvalFrameEx                                 + 0x91d5\n[0x7f51b63cd166]    PyEval_EvalFrameEx                                 + 0x9546\n[0x7f51b63cdb49]                                                       + 0x144b49\n[0x7f51b63cdcd8]    PyEval_EvalCodeEx                                  + 0x48\n[0x7f51b6323661]                                                       + 0x9a661\n[0x7f51b62f0236]    PyObject_Call                                      + 0x56\n[0x7f51b63ca234]    PyEval_EvalFrameEx                                 + 0x6614\n[0x7f51b63cdb49]                                                       + 0x144b49\n[0x7f51b63ccdf5]    PyEval_EvalFrameEx                                 + 0x91d5\n[0x7f51b63cd166]    PyEval_EvalFrameEx                                 + 0x9546\n[0x7f51b63cdb49]                                                       + 0x144b49\n[0x7f51b63ccdf5]    PyEval_EvalFrameEx                                 + 0x91d5\n[0x7f51b63cd166]    PyEval_EvalFrameEx                                 + 0x9546\n[0x7f51b63cdb49]                                                       + 0x144b49\n[0x7f51b63ccdf5]    PyEval_EvalFrameEx                                 + 0x91d5\n[0x7f51b63cdb49]                                                       + 0x144b49\n[0x7f51b63cdcd8]    PyEval_EvalCodeEx                                  + 0x48\n[0x7f51b63cdd1b]    PyEval_EvalCode                                    + 0x3b\n[0x7f51b63c0dfe]                                                       + 0x137dfe\n[0x7f51b63455e9]    PyCFunction_Call                                   + 0xf9\n[0x7f51b63ccbd5]    PyEval_EvalFrameEx                                 + 0x8fb5\n[0x7f51b63cdb49]                                                       + 0x144b49\n[0x7f51b63ccdf5]    PyEval_EvalFrameEx                                 + 0x91d5\n[0x7f51b63cdb49]                                                       + 0x144b49\n[0x7f51b63cdcd8]    PyEval_EvalCodeEx                                  + 0x48\n[0x7f51b6323542]                                                       + 0x9a542\n[0x7f51b62f0236]    PyObject_Call                                      + 0x56\n[0x7f51b640e8a2]                                                       + 0x1858a2\n[0x7f51b640f565]    Py_Main                                            + 0x945\n[0x400add]          main                                               + 0x15d\n[0x7f51b53ab830]    __libc_start_main                                  + 0xf0\n[0x4008b9]                                                            \n",
     "output_type": "error",
     "traceback": [
      "\u001b[0;31m---------------------------------------------------------------------------\u001b[0m",
      "\u001b[0;31mRuntimeError\u001b[0m                              Traceback (most recent call last)",
      "\u001b[0;32m<ipython-input-14-00f174839a83>\u001b[0m in \u001b[0;36m<module>\u001b[0;34m()\u001b[0m\n\u001b[1;32m     16\u001b[0m \u001b[0;31m# Instantiate the sequence classification model\u001b[0m\u001b[0;34m\u001b[0m\u001b[0;34m\u001b[0m\u001b[0m\n\u001b[1;32m     17\u001b[0m classifier_output = LSTM_sequence_classifier_net(\n\u001b[0;32m---> 18\u001b[0;31m         features, num_output_classes, embedding_dim, hidden_dim, cell_dim)\n\u001b[0m\u001b[1;32m     19\u001b[0m \u001b[0;34m\u001b[0m\u001b[0m\n\u001b[1;32m     20\u001b[0m \u001b[0mce\u001b[0m \u001b[0;34m=\u001b[0m \u001b[0mcross_entropy_with_softmax\u001b[0m\u001b[0;34m(\u001b[0m\u001b[0mclassifier_output\u001b[0m\u001b[0;34m,\u001b[0m \u001b[0mlabel\u001b[0m\u001b[0;34m)\u001b[0m\u001b[0;34m\u001b[0m\u001b[0m\n",
      "\u001b[0;32m<ipython-input-9-44244cbe847f>\u001b[0m in \u001b[0;36mLSTM_sequence_classifier_net\u001b[0;34m(input, num_output_classes, embedding_dim, LSTM_dim, cell_dim)\u001b[0m\n\u001b[1;32m      6\u001b[0m                                   \u001b[0msequence\u001b[0m\u001b[0;34m.\u001b[0m\u001b[0mlast\u001b[0m\u001b[0;34m,\u001b[0m\u001b[0;34m\u001b[0m\u001b[0m\n\u001b[1;32m      7\u001b[0m                                   Dense(num_output_classes)])\n\u001b[0;32m----> 8\u001b[0;31m     \u001b[0;32mreturn\u001b[0m \u001b[0mlstm_classifier\u001b[0m\u001b[0;34m(\u001b[0m\u001b[0minput\u001b[0m\u001b[0;34m)\u001b[0m\u001b[0;34m\u001b[0m\u001b[0m\n\u001b[0m",
      "\u001b[0;32m/home/vlad/anaconda3/lib/python3.5/site-packages/cntk/ops/functions.py\u001b[0m in \u001b[0;36m__call__\u001b[0;34m(self, *args, **kwargs)\u001b[0m\n\u001b[1;32m    382\u001b[0m         \u001b[0;32mif\u001b[0m \u001b[0mis_symbolic\u001b[0m\u001b[0;34m:\u001b[0m\u001b[0;34m\u001b[0m\u001b[0m\n\u001b[1;32m    383\u001b[0m             \u001b[0mFunction\u001b[0m\u001b[0;34m.\u001b[0m\u001b[0m_replace_args_type_check\u001b[0m\u001b[0;34m(\u001b[0m\u001b[0marg_map\u001b[0m\u001b[0;34m)\u001b[0m\u001b[0;34m\u001b[0m\u001b[0m\n\u001b[0;32m--> 384\u001b[0;31m             \u001b[0;32mreturn\u001b[0m \u001b[0mself\u001b[0m\u001b[0;34m.\u001b[0m\u001b[0mclone\u001b[0m\u001b[0;34m(\u001b[0m\u001b[0mCloneMethod\u001b[0m\u001b[0;34m.\u001b[0m\u001b[0mshare\u001b[0m\u001b[0;34m,\u001b[0m \u001b[0marg_map\u001b[0m\u001b[0;34m)\u001b[0m\u001b[0;34m\u001b[0m\u001b[0m\n\u001b[0m\u001b[1;32m    385\u001b[0m \u001b[0;34m\u001b[0m\u001b[0m\n\u001b[1;32m    386\u001b[0m         \u001b[0;31m# numeric: evaluate\u001b[0m\u001b[0;34m\u001b[0m\u001b[0;34m\u001b[0m\u001b[0m\n",
      "\u001b[0;32m/home/vlad/anaconda3/lib/python3.5/site-packages/cntk/internal/swig_helper.py\u001b[0m in \u001b[0;36mwrapper\u001b[0;34m(*args, **kwds)\u001b[0m\n\u001b[1;32m     67\u001b[0m     \u001b[0;34m@\u001b[0m\u001b[0mwraps\u001b[0m\u001b[0;34m(\u001b[0m\u001b[0mf\u001b[0m\u001b[0;34m)\u001b[0m\u001b[0;34m\u001b[0m\u001b[0m\n\u001b[1;32m     68\u001b[0m     \u001b[0;32mdef\u001b[0m \u001b[0mwrapper\u001b[0m\u001b[0;34m(\u001b[0m\u001b[0;34m*\u001b[0m\u001b[0margs\u001b[0m\u001b[0;34m,\u001b[0m \u001b[0;34m**\u001b[0m\u001b[0mkwds\u001b[0m\u001b[0;34m)\u001b[0m\u001b[0;34m:\u001b[0m\u001b[0;34m\u001b[0m\u001b[0m\n\u001b[0;32m---> 69\u001b[0;31m         \u001b[0mresult\u001b[0m \u001b[0;34m=\u001b[0m \u001b[0mf\u001b[0m\u001b[0;34m(\u001b[0m\u001b[0;34m*\u001b[0m\u001b[0margs\u001b[0m\u001b[0;34m,\u001b[0m \u001b[0;34m**\u001b[0m\u001b[0mkwds\u001b[0m\u001b[0;34m)\u001b[0m\u001b[0;34m\u001b[0m\u001b[0m\n\u001b[0m\u001b[1;32m     70\u001b[0m         \u001b[0mmap_if_possible\u001b[0m\u001b[0;34m(\u001b[0m\u001b[0mresult\u001b[0m\u001b[0;34m)\u001b[0m\u001b[0;34m\u001b[0m\u001b[0m\n\u001b[1;32m     71\u001b[0m         \u001b[0;32mreturn\u001b[0m \u001b[0mresult\u001b[0m\u001b[0;34m\u001b[0m\u001b[0m\n",
      "\u001b[0;32m/home/vlad/anaconda3/lib/python3.5/site-packages/cntk/ops/functions.py\u001b[0m in \u001b[0;36mclone\u001b[0;34m(self, method, substitutions)\u001b[0m\n\u001b[1;32m    555\u001b[0m         \u001b[0;32mif\u001b[0m \u001b[0;32mnot\u001b[0m \u001b[0misinstance\u001b[0m\u001b[0;34m(\u001b[0m\u001b[0msubstitutions\u001b[0m\u001b[0;34m,\u001b[0m \u001b[0mdict\u001b[0m\u001b[0;34m)\u001b[0m\u001b[0;34m:\u001b[0m\u001b[0;34m\u001b[0m\u001b[0m\n\u001b[1;32m    556\u001b[0m             \u001b[0;32mraise\u001b[0m \u001b[0mTypeError\u001b[0m\u001b[0;34m(\u001b[0m\u001b[0;34m\"Variable substitution map must be a dictionary\"\u001b[0m\u001b[0;34m)\u001b[0m\u001b[0;34m\u001b[0m\u001b[0m\n\u001b[0;32m--> 557\u001b[0;31m         \u001b[0;32mreturn\u001b[0m \u001b[0msuper\u001b[0m\u001b[0;34m(\u001b[0m\u001b[0mFunction\u001b[0m\u001b[0;34m,\u001b[0m \u001b[0mself\u001b[0m\u001b[0;34m)\u001b[0m\u001b[0;34m.\u001b[0m\u001b[0mclone\u001b[0m\u001b[0;34m(\u001b[0m\u001b[0mmethod\u001b[0m\u001b[0;34m,\u001b[0m \u001b[0msubstitutions\u001b[0m\u001b[0;34m)\u001b[0m\u001b[0;34m\u001b[0m\u001b[0m\n\u001b[0m\u001b[1;32m    558\u001b[0m \u001b[0;34m\u001b[0m\u001b[0m\n\u001b[1;32m    559\u001b[0m     \u001b[0;34m@\u001b[0m\u001b[0mproperty\u001b[0m\u001b[0;34m\u001b[0m\u001b[0m\n",
      "\u001b[0;32m/home/vlad/anaconda3/lib/python3.5/site-packages/cntk/cntk_py.py\u001b[0m in \u001b[0;36mclone\u001b[0;34m(self, *args)\u001b[0m\n\u001b[1;32m   1595\u001b[0m \u001b[0;34m\u001b[0m\u001b[0m\n\u001b[1;32m   1596\u001b[0m     \u001b[0;32mdef\u001b[0m \u001b[0mclone\u001b[0m\u001b[0;34m(\u001b[0m\u001b[0mself\u001b[0m\u001b[0;34m,\u001b[0m \u001b[0;34m*\u001b[0m\u001b[0margs\u001b[0m\u001b[0;34m)\u001b[0m\u001b[0;34m:\u001b[0m\u001b[0;34m\u001b[0m\u001b[0m\n\u001b[0;32m-> 1597\u001b[0;31m         \u001b[0;32mreturn\u001b[0m \u001b[0m_cntk_py\u001b[0m\u001b[0;34m.\u001b[0m\u001b[0mFunction_clone\u001b[0m\u001b[0;34m(\u001b[0m\u001b[0mself\u001b[0m\u001b[0;34m,\u001b[0m \u001b[0;34m*\u001b[0m\u001b[0margs\u001b[0m\u001b[0;34m)\u001b[0m\u001b[0;34m\u001b[0m\u001b[0m\n\u001b[0m\u001b[1;32m   1598\u001b[0m     \u001b[0;32mif\u001b[0m \u001b[0m_newclass\u001b[0m\u001b[0;34m:\u001b[0m\u001b[0;34m\u001b[0m\u001b[0m\n\u001b[1;32m   1599\u001b[0m         \u001b[0m_deserialize\u001b[0m \u001b[0;34m=\u001b[0m \u001b[0mstaticmethod\u001b[0m\u001b[0;34m(\u001b[0m\u001b[0m_cntk_py\u001b[0m\u001b[0;34m.\u001b[0m\u001b[0mFunction__deserialize\u001b[0m\u001b[0;34m)\u001b[0m\u001b[0;34m\u001b[0m\u001b[0m\n",
      "\u001b[0;31mRuntimeError\u001b[0m: PastValue/FutureValue Function 'FutureValue: Output('ReconcileDynamicAxis3559_Output_0', [#], []) -> Output('FutureValue3561_Output_0', [???], [???])': Input operand 'Output('ReconcileDynamicAxis3559_Output_0', [#], [])' with #dynamic axes != 2 (1 sequence axis and 1 batch axis) is not supported.\n\n[CALL STACK]\n[0x7f518ab0563c]                                                       + 0x63c63c\n[0x7f518ab36904]    CNTK::PrimitiveFunction::  InferOutputs  (std::vector<CNTK::Variable,std::allocator<CNTK::Variable>>&) + 0x2e64\n[0x7f518ab0a9b9]    CNTK::Function::  ValidateOrUpdateOutputs  (std::unordered_map<CNTK::Function const*,unsigned long,std::hash<CNTK::Function const*>,std::equal_to<CNTK::Function const*>,std::allocator<std::pair<CNTK::Function const* const,unsigned long>>>&,  bool&,  std::vector<CNTK::Variable,std::allocator<CNTK::Variable>>&) + 0x1c9\n[0x7f518ab0a94c]    CNTK::Function::  ValidateOrUpdateOutputs  (std::unordered_map<CNTK::Function const*,unsigned long,std::hash<CNTK::Function const*>,std::equal_to<CNTK::Function const*>,std::allocator<std::pair<CNTK::Function const* const,unsigned long>>>&,  bool&,  std::vector<CNTK::Variable,std::allocator<CNTK::Variable>>&) + 0x15c (x3)\n[0x7f518ab0e33b]    CNTK::Function::  ValidateOrUpdateOutputs  ()      + 0xfb\n[0x7f518ab0f1dc]    CNTK::Function::  ReplacePlaceholders  (std::unordered_map<CNTK::Variable,CNTK::Variable,std::hash<CNTK::Variable>,std::equal_to<CNTK::Variable>,std::allocator<std::pair<CNTK::Variable const,CNTK::Variable>>> const&) + 0xdc\n[0x7f518ab29787]    CNTK::BlockFunction::  InferOutputs  (std::vector<CNTK::Variable,std::allocator<CNTK::Variable>>&) + 0x157\n[0x7f518ab0ce12]                                                       + 0x643e12\n[0x7f51b607aa99]                                                       + 0xea99\n[0x7f518ab07ea3]    CNTK::Function::  InitOutputs  ()                  + 0x53\n[0x7f518ab082b9]    CNTK::  GetCorrespondingOutputVariableFromClone  (CNTK::Variable const&,  std::shared_ptr<CNTK::Function> const&,  std::shared_ptr<CNTK::Function> const&) + 0x89\n[0x7f518ab2007c]    CNTK::Function::  Clone  (std::shared_ptr<CNTK::Function> const&,  CNTK::ParameterCloningMethod,  std::unordered_map<CNTK::Variable,CNTK::Variable,std::hash<CNTK::Variable>,std::equal_to<CNTK::Variable>,std::allocator<std::pair<CNTK::Variable const,CNTK::Variable>>> const&,  std::unordered_map<CNTK::Function const*,std::shared_ptr<CNTK::Function>,std::hash<CNTK::Function const*>,std::equal_to<CNTK::Function const*>,std::allocator<std::pair<CNTK::Function const* const,std::shared_ptr<CNTK::Function>>>>&,  std::unordered_map<CNTK::Variable,CNTK::Variable,std::hash<CNTK::Variable>,std::equal_to<CNTK::Variable>,std::allocator<std::pair<CNTK::Variable const,CNTK::Variable>>>&,  std::unordered_map<CNTK::Variable,CNTK::Variable,std::hash<CNTK::Variable>,std::equal_to<CNTK::Variable>,std::allocator<std::pair<CNTK::Variable const,CNTK::Variable>>>&) + 0xf5c\n[0x7f518ab20f2c]    CNTK::Function::  Clone  (CNTK::ParameterCloningMethod,  std::unordered_map<CNTK::Variable,CNTK::Variable,std::hash<CNTK::Variable>,std::equal_to<CNTK::Variable>,std::allocator<std::pair<CNTK::Variable const,CNTK::Variable>>> const&) const + 0x4dc\n[0x7f518b4c15ef]                                                       + 0x1e75ef\n[0x7f518b4c1cc8]                                                       + 0x1e7cc8\n[0x7f51b63455e9]    PyCFunction_Call                                   + 0xf9\n[0x7f51b63ca7c0]    PyEval_EvalFrameEx                                 + 0x6ba0\n[0x7f51b63cdb49]                                                       + 0x144b49\n[0x7f51b63ccdf5]    PyEval_EvalFrameEx                                 + 0x91d5\n[0x7f51b63cdb49]                                                       + 0x144b49\n[0x7f51b63cdcd8]    PyEval_EvalCodeEx                                  + 0x48\n[0x7f51b6323661]                                                       + 0x9a661\n[0x7f51b62f0236]    PyObject_Call                                      + 0x56\n[0x7f51b63ca234]    PyEval_EvalFrameEx                                 + 0x6614\n[0x7f51b63cdb49]                                                       + 0x144b49\n[0x7f51b63ccdf5]    PyEval_EvalFrameEx                                 + 0x91d5\n[0x7f51b63cdb49]                                                       + 0x144b49\n[0x7f51b63cdcd8]    PyEval_EvalCodeEx                                  + 0x48\n[0x7f51b6323542]                                                       + 0x9a542\n[0x7f51b62f0236]    PyObject_Call                                      + 0x56\n[0x7f51b630c77c]                                                       + 0x8377c\n[0x7f51b62f0236]    PyObject_Call                                      + 0x56\n[0x7f51b6360e3f]                                                       + 0xd7e3f\n[0x7f51b62f0236]    PyObject_Call                                      + 0x56\n[0x7f51b63ca314]    PyEval_EvalFrameEx                                 + 0x66f4\n[0x7f51b63cd166]    PyEval_EvalFrameEx                                 + 0x9546\n[0x7f51b63cdb49]                                                       + 0x144b49\n[0x7f51b63cdcd8]    PyEval_EvalCodeEx                                  + 0x48\n[0x7f51b63cdd1b]    PyEval_EvalCode                                    + 0x3b\n[0x7f51b63c0dfe]                                                       + 0x137dfe\n[0x7f51b63455e9]    PyCFunction_Call                                   + 0xf9\n[0x7f51b63ccbd5]    PyEval_EvalFrameEx                                 + 0x8fb5\n[0x7f51b63cdb49]                                                       + 0x144b49\n[0x7f51b63ccdf5]    PyEval_EvalFrameEx                                 + 0x91d5\n[0x7f51b63cdb49]                                                       + 0x144b49\n[0x7f51b63ccdf5]    PyEval_EvalFrameEx                                 + 0x91d5\n[0x7f51b63cdb49]                                                       + 0x144b49\n[0x7f51b63cdcd8]    PyEval_EvalCodeEx                                  + 0x48\n[0x7f51b6323661]                                                       + 0x9a661\n[0x7f51b62f0236]    PyObject_Call                                      + 0x56\n[0x7f51b63ca234]    PyEval_EvalFrameEx                                 + 0x6614\n[0x7f51b63cdb49]                                                       + 0x144b49\n[0x7f51b63ccdf5]    PyEval_EvalFrameEx                                 + 0x91d5\n[0x7f51b63cdb49]                                                       + 0x144b49\n[0x7f51b63ccdf5]    PyEval_EvalFrameEx                                 + 0x91d5\n[0x7f51b63cd166]    PyEval_EvalFrameEx                                 + 0x9546 (x2)\n[0x7f51b63cdb49]                                                       + 0x144b49\n[0x7f51b63cdcd8]    PyEval_EvalCodeEx                                  + 0x48\n[0x7f51b6323661]                                                       + 0x9a661\n[0x7f51b62f0236]    PyObject_Call                                      + 0x56\n[0x7f51b63ca234]    PyEval_EvalFrameEx                                 + 0x6614\n[0x7f51b63cdb49]                                                       + 0x144b49\n[0x7f51b63cdcd8]    PyEval_EvalCodeEx                                  + 0x48\n[0x7f51b6323661]                                                       + 0x9a661\n[0x7f51b62f0236]    PyObject_Call                                      + 0x56\n[0x7f51b63ca234]    PyEval_EvalFrameEx                                 + 0x6614\n[0x7f51b63cdb49]                                                       + 0x144b49\n[0x7f51b63ccdf5]    PyEval_EvalFrameEx                                 + 0x91d5\n[0x7f51b63cd166]    PyEval_EvalFrameEx                                 + 0x9546\n[0x7f51b63cdb49]                                                       + 0x144b49\n[0x7f51b63cdcd8]    PyEval_EvalCodeEx                                  + 0x48\n[0x7f51b6323661]                                                       + 0x9a661\n[0x7f51b62f0236]    PyObject_Call                                      + 0x56\n[0x7f51b63ca234]    PyEval_EvalFrameEx                                 + 0x6614\n[0x7f51b63cdb49]                                                       + 0x144b49\n[0x7f51b63ccdf5]    PyEval_EvalFrameEx                                 + 0x91d5\n[0x7f51b63cd166]    PyEval_EvalFrameEx                                 + 0x9546\n[0x7f51b63cdb49]                                                       + 0x144b49\n[0x7f51b63ccdf5]    PyEval_EvalFrameEx                                 + 0x91d5\n[0x7f51b63cd166]    PyEval_EvalFrameEx                                 + 0x9546\n[0x7f51b63cdb49]                                                       + 0x144b49\n[0x7f51b63ccdf5]    PyEval_EvalFrameEx                                 + 0x91d5\n[0x7f51b63cdb49]                                                       + 0x144b49\n[0x7f51b63cdcd8]    PyEval_EvalCodeEx                                  + 0x48\n[0x7f51b63cdd1b]    PyEval_EvalCode                                    + 0x3b\n[0x7f51b63c0dfe]                                                       + 0x137dfe\n[0x7f51b63455e9]    PyCFunction_Call                                   + 0xf9\n[0x7f51b63ccbd5]    PyEval_EvalFrameEx                                 + 0x8fb5\n[0x7f51b63cdb49]                                                       + 0x144b49\n[0x7f51b63ccdf5]    PyEval_EvalFrameEx                                 + 0x91d5\n[0x7f51b63cdb49]                                                       + 0x144b49\n[0x7f51b63cdcd8]    PyEval_EvalCodeEx                                  + 0x48\n[0x7f51b6323542]                                                       + 0x9a542\n[0x7f51b62f0236]    PyObject_Call                                      + 0x56\n[0x7f51b640e8a2]                                                       + 0x1858a2\n[0x7f51b640f565]    Py_Main                                            + 0x945\n[0x400add]          main                                               + 0x15d\n[0x7f51b53ab830]    __libc_start_main                                  + 0xf0\n[0x4008b9]                                                            \n"
     ]
    }
   ],
   "source": [
    "# Creates and trains a LSTM sequence classification model\n",
    "\n",
    "input_dim = dictionary_len\n",
    "\n",
    "cell_dim = 100\n",
    "    \n",
    "hidden_dim = 25\n",
    "embedding_dim = 50\n",
    "    \n",
    "num_output_classes = num_classes\n",
    "\n",
    "# Input variables\n",
    "features = input_variable(input_dim, np.float32)\n",
    "label = input_variable(num_output_classes, np.float32)\n",
    "    \n",
    "# Instantiate the sequence classification model\n",
    "classifier_output = LSTM_sequence_classifier_net(\n",
    "        features, num_output_classes, embedding_dim, hidden_dim, cell_dim)\n",
    "    \n",
    "ce = cross_entropy_with_softmax(classifier_output, label)\n",
    "pe = classification_error(classifier_output, label)\n",
    " \n",
    "input_map = {\n",
    "        features: features_vec,\n",
    "        label:    labels\n",
    "}    \n",
    "    \n",
    "lr_per_sample = learning_rate_schedule(0.0005, UnitType.sample)\n",
    "    \n",
    "# Instantiate the trainer object to drive the model training\n",
    "progress_printer = ProgressPrinter(0)\n",
    "trainer = Trainer(classifier_output, (ce, pe),\n",
    "                      sgd(classifier_output.parameters, lr=lr_per_sample),\n",
    "                      progress_printer)\n",
    "\n",
    "# Get minibatches of sequences to train with and perform model training\n",
    "minibatch_size = 200\n",
    "\n",
    "for i in range(255):\n",
    "    mb = reader.next_minibatch(minibatch_size, input_map=input_map)\n",
    "    trainer.train_minibatch(mb)\n",
    "\n",
    "evaluation_average = float(trainer.previous_minibatch_evaluation_average)\n",
    "loss_average = float(trainer.previous_minibatch_loss_average)\n"
   ]
  },
  {
   "cell_type": "code",
   "execution_count": null,
   "metadata": {
    "collapsed": false
   },
   "outputs": [],
   "source": []
  },
  {
   "cell_type": "code",
   "execution_count": null,
   "metadata": {
    "collapsed": false
   },
   "outputs": [],
   "source": []
  },
  {
   "cell_type": "code",
   "execution_count": 4,
   "metadata": {
    "collapsed": true
   },
   "outputs": [],
   "source": [
    "def create_reader(path, is_training, input_dim, label_dim):\n",
    "    return MinibatchSource(CTFDeserializer(path, StreamDefs(\n",
    "        features=StreamDef(field='x', shape=input_dim, is_sparse=True),\n",
    "        labels=StreamDef(field='y', shape=label_dim, is_sparse=False)\n",
    "        )), randomize=is_training,\n",
    "        max_sweeps=INFINITELY_REPEAT if is_training else 1)"
   ]
  },
  {
   "cell_type": "code",
   "execution_count": null,
   "metadata": {
    "collapsed": false
   },
   "outputs": [],
   "source": []
  },
  {
   "cell_type": "raw",
   "metadata": {},
   "source": []
  }
 ],
 "metadata": {
  "anaconda-cloud": {},
  "kernelspec": {
   "display_name": "Python [default]",
   "language": "python",
   "name": "python3"
  },
  "language_info": {
   "codemirror_mode": {
    "name": "ipython",
    "version": 3
   },
   "file_extension": ".py",
   "mimetype": "text/x-python",
   "name": "python",
   "nbconvert_exporter": "python",
   "pygments_lexer": "ipython3",
   "version": "3.5.2"
  }
 },
 "nbformat": 4,
 "nbformat_minor": 1
}

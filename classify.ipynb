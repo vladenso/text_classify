{
 "cells": [
  {
   "cell_type": "code",
   "execution_count": 1,
   "metadata": {
    "collapsed": true
   },
   "outputs": [],
   "source": [
    "import sys\n",
    "import os\n",
    "import numpy as np\n",
    "from cntk import Trainer, Axis\n",
    "from cntk.io import MinibatchSource, CTFDeserializer, StreamDef, StreamDefs,\\\n",
    "        INFINITELY_REPEAT\n",
    "from cntk.learners import sgd, learning_rate_schedule, UnitType\n",
    "from cntk import input_variable, cross_entropy_with_softmax, \\\n",
    "        classification_error, sequence\n",
    "from cntk.logging import ProgressPrinter\n",
    "from cntk.layers import Sequential, Embedding, Recurrence, LSTM, Dense"
   ]
  },
  {
   "cell_type": "code",
   "execution_count": 2,
   "metadata": {
    "collapsed": true
   },
   "outputs": [],
   "source": [
    "num_classes = 20"
   ]
  },
  {
   "cell_type": "code",
   "execution_count": 3,
   "metadata": {
    "collapsed": false
   },
   "outputs": [],
   "source": [
    "def read_data():\n",
    "    train_p = \"data/20ng-train-all-terms.txt\"\n",
    "    test_p = \"data/20ng-test-all-terms.txt\"\n",
    "\n",
    "    f_train = open(train_p)\n",
    "    f_test = open(test_p)\n",
    "    \n",
    "    train = f_train.readlines()\n",
    "    test = f_test.readlines()\n",
    "    \n",
    "    f_train.close()\n",
    "    f_test.close()\n",
    "    return train, test"
   ]
  },
  {
   "cell_type": "code",
   "execution_count": 4,
   "metadata": {
    "collapsed": false
   },
   "outputs": [],
   "source": [
    "def make_dataset(train, test):\n",
    "    labels = []\n",
    "    features = []\n",
    "    for n, line in enumerate(train, 1):\n",
    "        l = line.partition('\\t')\n",
    "        labels.append(l[0])\n",
    "        features.append(l[2].split(' '))\n",
    "    return features, labels\n",
    "\n",
    "    test_y = []\n",
    "    test_x = []\n",
    "    for n, line in enumerate(test, 1):\n",
    "        l = line.partition('\\t')\n",
    "        test_y.append(l[0])\n",
    "        test_x.append(l[2].split(' '))\n",
    "    return features, label"
   ]
  },
  {
   "cell_type": "code",
   "execution_count": 44,
   "metadata": {
    "collapsed": false
   },
   "outputs": [],
   "source": [
    "train, test = read_data()\n",
    "features, label_names = make_dataset(train, test)\n",
    "\n",
    "#Reads labels and one hot encode them\n",
    "from sklearn import preprocessing\n",
    "le = preprocessing.LabelEncoder()\n",
    "le.fit(label_names)\n",
    "labels_arr = le.fit_transform(label_names)\n",
    "\n",
    "labels = np.zeros((len(labels_arr), num_classes))\n",
    "for i in range(len(labels_arr)):\n",
    "    labels[i][labels_arr[i]] = 1"
   ]
  },
  {
   "cell_type": "code",
   "execution_count": 43,
   "metadata": {
    "collapsed": false
   },
   "outputs": [],
   "source": [
    "# Reads CBOW embeding file and converts it to a dictionary \n",
    "path_w2v = \"word2vect_dict\"\n",
    "file_w2v = open(path_w2v)\n",
    "lines = file_w2v.readlines()\n",
    "word2vec = {}\n",
    "dictionary, vector_len = lines[:-1].pop(0).split(' ')\n",
    "dictionary_len = int(dictionary)\n",
    "vector_len = int(vector_len)\n",
    "for l in lines:\n",
    "    arr = l[:-1].split(' ')\n",
    "    w = arr[0]\n",
    "    arr = list(map(float, arr[1:]))\n",
    "    word2vec[w] = arr"
   ]
  },
  {
   "cell_type": "code",
   "execution_count": 52,
   "metadata": {
    "collapsed": false
   },
   "outputs": [],
   "source": [
    "# Replaces words by their vector representations \n",
    "features_vec = []\n",
    "for feat in features:\n",
    "    seq = []\n",
    "    for word in feat:\n",
    "        seq += [word2vec.get(word, [0] * vector_len)]\n",
    "    features_vec.append(np.array(seq))"
   ]
  },
  {
   "cell_type": "code",
   "execution_count": 21,
   "metadata": {
    "collapsed": false
   },
   "outputs": [],
   "source": [
    "features_vec = np.array(features_vec)"
   ]
  },
  {
   "cell_type": "code",
   "execution_count": null,
   "metadata": {
    "collapsed": false
   },
   "outputs": [],
   "source": []
  },
  {
   "cell_type": "code",
   "execution_count": 34,
   "metadata": {
    "collapsed": true
   },
   "outputs": [],
   "source": [
    "# Defines the LSTM model for classifying sequences\n",
    "def LSTM_sequence_classifier_net(input, num_output_classes, embedding_dim,\n",
    "                                LSTM_dim, cell_dim):\n",
    "    lstm_classifier = Sequential([Embedding(embedding_dim),\n",
    "                                  Recurrence(LSTM(LSTM_dim, cell_dim)),\n",
    "                                  sequence.last,\n",
    "                                  Dense(num_output_classes)])\n",
    "    return lstm_classifier(input)"
   ]
  },
  {
   "cell_type": "code",
   "execution_count": 65,
   "metadata": {
    "collapsed": false
   },
   "outputs": [
    {
     "name": "stdout",
     "output_type": "stream",
     "text": [
      " average      since    average      since      examples\n",
      "    loss       last     metric       last              \n",
      " ------------------------------------------------------\n"
     ]
    },
    {
     "ename": "NameError",
     "evalue": "name 'reader' is not defined",
     "output_type": "error",
     "traceback": [
      "\u001b[0;31m---------------------------------------------------------------------------\u001b[0m",
      "\u001b[0;31mNameError\u001b[0m                                 Traceback (most recent call last)",
      "\u001b[0;32m<ipython-input-65-9f5ad3b676fb>\u001b[0m in \u001b[0;36m<module>\u001b[0;34m()\u001b[0m\n\u001b[1;32m     35\u001b[0m \u001b[0;34m\u001b[0m\u001b[0m\n\u001b[1;32m     36\u001b[0m \u001b[0;32mfor\u001b[0m \u001b[0mi\u001b[0m \u001b[0;32min\u001b[0m \u001b[0mrange\u001b[0m\u001b[0;34m(\u001b[0m\u001b[0;36m255\u001b[0m\u001b[0;34m)\u001b[0m\u001b[0;34m:\u001b[0m\u001b[0;34m\u001b[0m\u001b[0m\n\u001b[0;32m---> 37\u001b[0;31m     \u001b[0mmb\u001b[0m \u001b[0;34m=\u001b[0m \u001b[0mreader\u001b[0m\u001b[0;34m.\u001b[0m\u001b[0mnext_minibatch\u001b[0m\u001b[0;34m(\u001b[0m\u001b[0mminibatch_size\u001b[0m\u001b[0;34m,\u001b[0m \u001b[0minput_map\u001b[0m\u001b[0;34m=\u001b[0m\u001b[0minput_map\u001b[0m\u001b[0;34m)\u001b[0m\u001b[0;34m\u001b[0m\u001b[0m\n\u001b[0m\u001b[1;32m     38\u001b[0m     \u001b[0mtrainer\u001b[0m\u001b[0;34m.\u001b[0m\u001b[0mtrain_minibatch\u001b[0m\u001b[0;34m(\u001b[0m\u001b[0mmb\u001b[0m\u001b[0;34m)\u001b[0m\u001b[0;34m\u001b[0m\u001b[0m\n\u001b[1;32m     39\u001b[0m \u001b[0;34m\u001b[0m\u001b[0m\n",
      "\u001b[0;31mNameError\u001b[0m: name 'reader' is not defined"
     ]
    }
   ],
   "source": [
    "# Creates and trains a LSTM sequence classification model\n",
    "input_dim = 2000\n",
    "cell_dim = 25\n",
    "hidden_dim = 25\n",
    "embedding_dim = 50\n",
    "num_output_classes = 20\n",
    "\n",
    "# Input variables denoting the features and label data\n",
    "features = sequence.input_variable(shape=input_dim, is_sparse=True)\n",
    "label = input_variable(num_output_classes)\n",
    "\n",
    "# Instantiate the sequence classification model\n",
    "classifier_output = LSTM_sequence_classifier_net(\n",
    "        features, num_output_classes, embedding_dim, hidden_dim, cell_dim)\n",
    "\n",
    "    \n",
    "ce = cross_entropy_with_softmax(classifier_output, label)\n",
    "pe = classification_error(classifier_output, label)\n",
    " \n",
    "input_map = {\n",
    "        features: features_vec,\n",
    "        label:    labels\n",
    "}    \n",
    "    \n",
    "lr_per_sample = learning_rate_schedule(0.0005, UnitType.sample)\n",
    "    \n",
    "# Instantiate the trainer object to drive the model training\n",
    "progress_printer = ProgressPrinter(0)\n",
    "trainer = Trainer(classifier_output, (ce, pe),\n",
    "                      sgd(classifier_output.parameters, lr=lr_per_sample),\n",
    "                      progress_printer)\n",
    "\n",
    "# Get minibatches of sequences to train with and perform model training\n",
    "minibatch_size = 200\n",
    "\n",
    "for i in range(255):\n",
    "    mb = reader.next_minibatch(minibatch_size, input_map=input_map)\n",
    "    trainer.train_minibatch(mb)\n",
    "\n",
    "evaluation_average = float(trainer.previous_minibatch_evaluation_average)\n",
    "loss_average = float(trainer.previous_minibatch_loss_average)\n"
   ]
  },
  {
   "cell_type": "code",
   "execution_count": null,
   "metadata": {
    "collapsed": false
   },
   "outputs": [],
   "source": []
  },
  {
   "cell_type": "code",
   "execution_count": null,
   "metadata": {
    "collapsed": false
   },
   "outputs": [],
   "source": []
  },
  {
   "cell_type": "code",
   "execution_count": 4,
   "metadata": {
    "collapsed": true
   },
   "outputs": [],
   "source": [
    "def create_reader(path, is_training, input_dim, label_dim):\n",
    "    return MinibatchSource(CTFDeserializer(path, StreamDefs(\n",
    "        features=StreamDef(field='x', shape=input_dim, is_sparse=True),\n",
    "        labels=StreamDef(field='y', shape=label_dim, is_sparse=False)\n",
    "        )), randomize=is_training,\n",
    "        max_sweeps=INFINITELY_REPEAT if is_training else 1)"
   ]
  },
  {
   "cell_type": "code",
   "execution_count": null,
   "metadata": {
    "collapsed": false
   },
   "outputs": [],
   "source": []
  },
  {
   "cell_type": "raw",
   "metadata": {},
   "source": []
  }
 ],
 "metadata": {
  "anaconda-cloud": {},
  "kernelspec": {
   "display_name": "Python [default]",
   "language": "python",
   "name": "python3"
  },
  "language_info": {
   "codemirror_mode": {
    "name": "ipython",
    "version": 3
   },
   "file_extension": ".py",
   "mimetype": "text/x-python",
   "name": "python",
   "nbconvert_exporter": "python",
   "pygments_lexer": "ipython3",
   "version": "3.5.2"
  }
 },
 "nbformat": 4,
 "nbformat_minor": 1
}

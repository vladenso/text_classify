{
 "cells": [
  {
   "cell_type": "code",
   "execution_count": 19,
   "metadata": {
    "collapsed": true
   },
   "outputs": [],
   "source": [
    "import sys\n",
    "import os\n",
    "import numpy as np\n",
    "from cntk import Trainer, Axis\n",
    "from cntk.io import MinibatchSource, CTFDeserializer, StreamDef, StreamDefs,\\\n",
    "        INFINITELY_REPEAT\n",
    "from cntk.learners import sgd, learning_rate_schedule, UnitType\n",
    "from cntk import input_variable, cross_entropy_with_softmax, \\\n",
    "        classification_error, sequence\n",
    "from cntk.logging import ProgressPrinter\n",
    "from cntk.layers import Sequential, Embedding, Recurrence, LSTM, Dense"
   ]
  },
  {
   "cell_type": "code",
   "execution_count": 2,
   "metadata": {
    "collapsed": false
   },
   "outputs": [],
   "source": [
    "def read_data():\n",
    "    train_p = \"data/20ng-train-all-terms.txt\"\n",
    "    test_p = \"data/20ng-test-all-terms.txt\"\n",
    "\n",
    "    f_train = open(train_p)\n",
    "    f_test = open(test_p)\n",
    "    \n",
    "    train = f_train.readlines()\n",
    "    test = f_test.readlines()\n",
    "    \n",
    "    f_train.close()\n",
    "    f_test.close()\n",
    "    return train, test"
   ]
  },
  {
   "cell_type": "code",
   "execution_count": 29,
   "metadata": {
    "collapsed": false
   },
   "outputs": [],
   "source": [
    "train, test = read_data()\n",
    "features, label = make_dataset(train, test)\n",
    "label = np.array(label)\n",
    "features = np.array(features)"
   ]
  },
  {
   "cell_type": "code",
   "execution_count": 24,
   "metadata": {
    "collapsed": false
   },
   "outputs": [],
   "source": [
    "def make_dataset(train, test):\n",
    "    label = []\n",
    "    features = []\n",
    "    for n, line in enumerate(train, 1):\n",
    "        l = line.partition('\\t')\n",
    "        label.append(l[0])\n",
    "        features.append(l[2].split(' '))\n",
    "    test_y = []\n",
    "    test_x = []\n",
    "    for n, line in enumerate(test, 1):\n",
    "        l = line.partition('\\t')\n",
    "        test_y.append(l[0])\n",
    "        test_x.append(l[2].split(' '))\n",
    "    return features, label"
   ]
  },
  {
   "cell_type": "code",
   "execution_count": 30,
   "metadata": {
    "collapsed": false
   },
   "outputs": [
    {
     "data": {
      "text/plain": [
       "'alt.atheism'"
      ]
     },
     "execution_count": 30,
     "metadata": {},
     "output_type": "execute_result"
    }
   ],
   "source": [
    "label[0]"
   ]
  },
  {
   "cell_type": "code",
   "execution_count": 4,
   "metadata": {
    "collapsed": true
   },
   "outputs": [],
   "source": [
    "def create_reader(path, is_training, input_dim, label_dim):\n",
    "    return MinibatchSource(CTFDeserializer(path, StreamDefs(\n",
    "        features=StreamDef(field='x', shape=input_dim, is_sparse=True),\n",
    "        labels=StreamDef(field='y', shape=label_dim, is_sparse=False)\n",
    "        )), randomize=is_training,\n",
    "        max_sweeps=INFINITELY_REPEAT if is_training else 1)"
   ]
  },
  {
   "cell_type": "code",
   "execution_count": 5,
   "metadata": {
    "collapsed": true
   },
   "outputs": [],
   "source": [
    "# Defines the LSTM model for classifying sequences\n",
    "def LSTM_sequence_classifier_net(input, num_output_classes, embedding_dim,\n",
    "                                LSTM_dim, cell_dim):\n",
    "    lstm_classifier = Sequential([Embedding(embedding_dim),\n",
    "                                  Recurrence(LSTM(LSTM_dim, cell_dim)),\n",
    "                                  sequence.last,\n",
    "                                  Dense(num_output_classes)])\n",
    "    return lstm_classifier(input)"
   ]
  },
  {
   "cell_type": "code",
   "execution_count": 35,
   "metadata": {
    "collapsed": true
   },
   "outputs": [],
   "source": [
    "# Creates and trains a LSTM sequence classification model\n",
    "def train_sequence_classifier():\n",
    "    input_dim = 2000\n",
    "    cell_dim = 25\n",
    "    hidden_dim = 25\n",
    "    embedding_dim = 50\n",
    "    num_output_classes = 20\n",
    "\n",
    "    # Input variables denoting the features and label data\n",
    "    features = sequence.input_variable(shape=input_dim, is_sparse=True)\n",
    "    label = input_variable(num_output_classes)\n",
    "    \n",
    "    # Instantiate the sequence classification model\n",
    "    classifier_output = LSTM_sequence_classifier_net(\n",
    "        features, num_output_classes, embedding_dim, hidden_dim, cell_dim)\n",
    "\n",
    "    ce = cross_entropy_with_softmax(classifier_output, label)\n",
    "    pe = classification_error(classifier_output, label)\n",
    "\n",
    "    rel_path = (\"../../../Tests/EndToEndTests/Text/\" +\n",
    "                \"SequenceClassification/Data/Train.ctf\")\n",
    "    path = os.path.join(os.path.dirname(os.path.abspath(__file__)), rel_path)\n",
    "\n",
    "    reader = create_reader(path, True, input_dim, num_output_classes)\n",
    "\n",
    "    input_map = {\n",
    "            features: reader.streams.features,\n",
    "            label:    reader.streams.labels\n",
    "    }\n",
    "\n",
    "    lr_per_sample = learning_rate_schedule(0.0005, UnitType.sample)\n",
    "    # Instantiate the trainer object to drive the model training\n",
    "    progress_printer = ProgressPrinter(0)\n",
    "    trainer = Trainer(classifier_output, (ce, pe),\n",
    "                      sgd(classifier_output.parameters, lr=lr_per_sample),\n",
    "                      progress_printer)\n",
    "\n",
    "    # Get minibatches of sequences to train with and perform model training\n",
    "    minibatch_size = 200\n",
    "\n",
    "    for i in range(255):\n",
    "        mb = reader.next_minibatch(minibatch_size, input_map=input_map)\n",
    "        trainer.train_minibatch(mb)\n",
    "\n",
    "    evaluation_average = float(trainer.previous_minibatch_evaluation_average)\n",
    "    loss_average = float(trainer.previous_minibatch_loss_average)\n",
    "    return evaluation_average, loss_average"
   ]
  },
  {
   "cell_type": "code",
   "execution_count": 37,
   "metadata": {
    "collapsed": true
   },
   "outputs": [],
   "source": [
    "__file__ = \"data/20ng-test-all-terms.txt\""
   ]
  },
  {
   "cell_type": "code",
   "execution_count": 38,
   "metadata": {
    "collapsed": false
   },
   "outputs": [
    {
     "name": "stdout",
     "output_type": "stream",
     "text": [
      "<class 'cntk.variables.Variable'>\n"
     ]
    },
    {
     "ename": "RuntimeError",
     "evalue": "error opening file '/home/vlad/work/text_clas/data/../../../Tests/EndToEndTests/Text/SequenceClassification/Data/Train.ctf': No such file or directory\n\n[CALL STACK]\n[0x7fdafbdb7a5c]                                                       + 0x52ba5c\n[0x7fdafb063c1b]    fopenOrDie  (std::basic_string<wchar_t,std::char_traits<wchar_t>,std::allocator<wchar_t>> const&,  wchar_t const*) + 0x22b\n[0x7fda401f3795]    Microsoft::MSR::CNTK::TextParser<float>::Initialize()::{lambda()#1}::  operator()  () const + 0x3b5\n[0x7fda401f3953]    Microsoft::MSR::CNTK::TextParser<float>::  Initialize  () + 0x43\n[0x7fda401fd49b]    Microsoft::MSR::CNTK::TextParser<float>::  TextParser  (std::shared_ptr<Microsoft::MSR::CNTK::CorpusDescriptor>,  Microsoft::MSR::CNTK::TextConfigHelper const&,  bool) + 0x8b\n[0x7fda401eac2e]    CreateDeserializer                                 + 0x1be\n[0x7fda4042a10b]    Microsoft::MSR::CNTK::CompositeDataReader::  CreateDeserializer  (Microsoft::MSR::CNTK::ConfigParameters const&,  bool) + 0x1cb\n[0x7fda4042a53e]    Microsoft::MSR::CNTK::CompositeDataReader::  CreateDeserializers  (Microsoft::MSR::CNTK::ConfigParameters const&) + 0x25e\n[0x7fda4042aece]    Microsoft::MSR::CNTK::CompositeDataReader::  CompositeDataReader  (Microsoft::MSR::CNTK::ConfigParameters const&) + 0x79e\n[0x7fda40434f06]    CreateCompositeDataReader                          + 0x26\n[0x7fdafbe12959]    CNTK::CompositeMinibatchSource::  CompositeMinibatchSource  (CNTK::MinibatchSourceConfig const&) + 0x629\n[0x7fdafbe131e7]    CNTK::  CreateCompositeMinibatchSource  (CNTK::MinibatchSourceConfig const&) + 0x27\n[0x7fdafc7872f9]                                                       + 0xea2f9\n[0x7fdb278c65e9]    PyCFunction_Call                                   + 0xf9\n[0x7fdb2794dbd5]    PyEval_EvalFrameEx                                 + 0x8fb5\n[0x7fdb2794eb49]                                                       + 0x144b49\n[0x7fdb2794ecd8]    PyEval_EvalCodeEx                                  + 0x48\n[0x7fdb278a4661]                                                       + 0x9a661\n[0x7fdb27871236]    PyObject_Call                                      + 0x56\n[0x7fdb2788d77c]                                                       + 0x8377c\n[0x7fdb27871236]    PyObject_Call                                      + 0x56\n[0x7fdb278e24c3]                                                       + 0xd84c3\n[0x7fdb278d8daf]                                                       + 0xcedaf\n[0x7fdb27871236]    PyObject_Call                                      + 0x56\n[0x7fdb2794b314]    PyEval_EvalFrameEx                                 + 0x66f4\n[0x7fdb2794e166]    PyEval_EvalFrameEx                                 + 0x9546 (x2)\n[0x7fdb2794eb49]                                                       + 0x144b49\n[0x7fdb2794ecd8]    PyEval_EvalCodeEx                                  + 0x48\n[0x7fdb2794ed1b]    PyEval_EvalCode                                    + 0x3b\n[0x7fdb27941dfe]                                                       + 0x137dfe\n[0x7fdb278c65e9]    PyCFunction_Call                                   + 0xf9\n[0x7fdb2794dbd5]    PyEval_EvalFrameEx                                 + 0x8fb5\n[0x7fdb2794eb49]                                                       + 0x144b49\n[0x7fdb2794ddf5]    PyEval_EvalFrameEx                                 + 0x91d5\n[0x7fdb2794eb49]                                                       + 0x144b49\n[0x7fdb2794ddf5]    PyEval_EvalFrameEx                                 + 0x91d5\n[0x7fdb2794eb49]                                                       + 0x144b49\n[0x7fdb2794ecd8]    PyEval_EvalCodeEx                                  + 0x48\n[0x7fdb278a4661]                                                       + 0x9a661\n[0x7fdb27871236]    PyObject_Call                                      + 0x56\n[0x7fdb2794b234]    PyEval_EvalFrameEx                                 + 0x6614\n[0x7fdb2794eb49]                                                       + 0x144b49\n[0x7fdb2794ddf5]    PyEval_EvalFrameEx                                 + 0x91d5\n[0x7fdb2794eb49]                                                       + 0x144b49\n[0x7fdb2794ddf5]    PyEval_EvalFrameEx                                 + 0x91d5\n[0x7fdb2794e166]    PyEval_EvalFrameEx                                 + 0x9546 (x2)\n[0x7fdb2794eb49]                                                       + 0x144b49\n[0x7fdb2794ecd8]    PyEval_EvalCodeEx                                  + 0x48\n[0x7fdb278a4661]                                                       + 0x9a661\n[0x7fdb27871236]    PyObject_Call                                      + 0x56\n[0x7fdb2794b234]    PyEval_EvalFrameEx                                 + 0x6614\n[0x7fdb2794eb49]                                                       + 0x144b49\n[0x7fdb2794ecd8]    PyEval_EvalCodeEx                                  + 0x48\n[0x7fdb278a4661]                                                       + 0x9a661\n[0x7fdb27871236]    PyObject_Call                                      + 0x56\n[0x7fdb2794b234]    PyEval_EvalFrameEx                                 + 0x6614\n[0x7fdb2794eb49]                                                       + 0x144b49\n[0x7fdb2794ddf5]    PyEval_EvalFrameEx                                 + 0x91d5\n[0x7fdb2794e166]    PyEval_EvalFrameEx                                 + 0x9546\n[0x7fdb2794eb49]                                                       + 0x144b49\n[0x7fdb2794ecd8]    PyEval_EvalCodeEx                                  + 0x48\n[0x7fdb278a4661]                                                       + 0x9a661\n[0x7fdb27871236]    PyObject_Call                                      + 0x56\n[0x7fdb2794b234]    PyEval_EvalFrameEx                                 + 0x6614\n[0x7fdb2794eb49]                                                       + 0x144b49\n[0x7fdb2794ddf5]    PyEval_EvalFrameEx                                 + 0x91d5\n[0x7fdb2794e166]    PyEval_EvalFrameEx                                 + 0x9546\n[0x7fdb2794eb49]                                                       + 0x144b49\n[0x7fdb2794ddf5]    PyEval_EvalFrameEx                                 + 0x91d5\n[0x7fdb2794e166]    PyEval_EvalFrameEx                                 + 0x9546\n[0x7fdb2794eb49]                                                       + 0x144b49\n[0x7fdb2794ddf5]    PyEval_EvalFrameEx                                 + 0x91d5\n[0x7fdb2794eb49]                                                       + 0x144b49\n[0x7fdb2794ecd8]    PyEval_EvalCodeEx                                  + 0x48\n[0x7fdb2794ed1b]    PyEval_EvalCode                                    + 0x3b\n[0x7fdb27941dfe]                                                       + 0x137dfe\n[0x7fdb278c65e9]    PyCFunction_Call                                   + 0xf9\n[0x7fdb2794dbd5]    PyEval_EvalFrameEx                                 + 0x8fb5\n[0x7fdb2794eb49]                                                       + 0x144b49\n[0x7fdb2794ddf5]    PyEval_EvalFrameEx                                 + 0x91d5\n[0x7fdb2794eb49]                                                       + 0x144b49\n[0x7fdb2794ecd8]    PyEval_EvalCodeEx                                  + 0x48\n[0x7fdb278a4542]                                                       + 0x9a542\n[0x7fdb27871236]    PyObject_Call                                      + 0x56\n[0x7fdb2798f8a2]                                                       + 0x1858a2\n[0x7fdb27990565]    Py_Main                                            + 0x945\n[0x400add]          main                                               + 0x15d\n[0x7fdb2692c830]    __libc_start_main                                  + 0xf0\n[0x4008b9]                                                            \n",
     "output_type": "error",
     "traceback": [
      "\u001b[0;31m---------------------------------------------------------------------------\u001b[0m",
      "\u001b[0;31mRuntimeError\u001b[0m                              Traceback (most recent call last)",
      "\u001b[0;32m/home/vlad/work/text_clas/data/20ng-test-all-terms.txt\u001b[0m in \u001b[0;36m<module>\u001b[0;34m()\u001b[0m\n\u001b[0;32m----> 1\u001b[0;31m \u001b[0merror\u001b[0m\u001b[0;34m,\u001b[0m \u001b[0m_\u001b[0m \u001b[0;34m=\u001b[0m \u001b[0mtrain_sequence_classifier\u001b[0m\u001b[0;34m(\u001b[0m\u001b[0;34m)\u001b[0m\u001b[0;34m\u001b[0m\u001b[0m\n\u001b[0m",
      "\u001b[0;32m/home/vlad/work/text_clas/data/20ng-test-all-terms.txt\u001b[0m in \u001b[0;36mtrain_sequence_classifier\u001b[0;34m()\u001b[0m\n\u001b[1;32m     22\u001b[0m     \u001b[0mpath\u001b[0m \u001b[0;34m=\u001b[0m \u001b[0mos\u001b[0m\u001b[0;34m.\u001b[0m\u001b[0mpath\u001b[0m\u001b[0;34m.\u001b[0m\u001b[0mjoin\u001b[0m\u001b[0;34m(\u001b[0m\u001b[0mos\u001b[0m\u001b[0;34m.\u001b[0m\u001b[0mpath\u001b[0m\u001b[0;34m.\u001b[0m\u001b[0mdirname\u001b[0m\u001b[0;34m(\u001b[0m\u001b[0mos\u001b[0m\u001b[0;34m.\u001b[0m\u001b[0mpath\u001b[0m\u001b[0;34m.\u001b[0m\u001b[0mabspath\u001b[0m\u001b[0;34m(\u001b[0m\u001b[0m__file__\u001b[0m\u001b[0;34m)\u001b[0m\u001b[0;34m)\u001b[0m\u001b[0;34m,\u001b[0m \u001b[0mrel_path\u001b[0m\u001b[0;34m)\u001b[0m\u001b[0;34m\u001b[0m\u001b[0m\n\u001b[1;32m     23\u001b[0m \u001b[0;34m\u001b[0m\u001b[0m\n\u001b[0;32m---> 24\u001b[0;31m     \u001b[0mreader\u001b[0m \u001b[0;34m=\u001b[0m \u001b[0mcreate_reader\u001b[0m\u001b[0;34m(\u001b[0m\u001b[0mpath\u001b[0m\u001b[0;34m,\u001b[0m \u001b[0;32mTrue\u001b[0m\u001b[0;34m,\u001b[0m \u001b[0minput_dim\u001b[0m\u001b[0;34m,\u001b[0m \u001b[0mnum_output_classes\u001b[0m\u001b[0;34m)\u001b[0m\u001b[0;34m\u001b[0m\u001b[0m\n\u001b[0m\u001b[1;32m     25\u001b[0m \u001b[0;34m\u001b[0m\u001b[0m\n\u001b[1;32m     26\u001b[0m     input_map = {\n",
      "\u001b[0;32m/home/vlad/work/text_clas/data/20ng-test-all-terms.txt\u001b[0m in \u001b[0;36mcreate_reader\u001b[0;34m(path, is_training, input_dim, label_dim)\u001b[0m\n\u001b[1;32m      4\u001b[0m         \u001b[0mlabels\u001b[0m\u001b[0;34m=\u001b[0m\u001b[0mStreamDef\u001b[0m\u001b[0;34m(\u001b[0m\u001b[0mfield\u001b[0m\u001b[0;34m=\u001b[0m\u001b[0;34m'y'\u001b[0m\u001b[0;34m,\u001b[0m \u001b[0mshape\u001b[0m\u001b[0;34m=\u001b[0m\u001b[0mlabel_dim\u001b[0m\u001b[0;34m,\u001b[0m \u001b[0mis_sparse\u001b[0m\u001b[0;34m=\u001b[0m\u001b[0;32mFalse\u001b[0m\u001b[0;34m)\u001b[0m\u001b[0;34m\u001b[0m\u001b[0m\n\u001b[1;32m      5\u001b[0m         )), randomize=is_training,\n\u001b[0;32m----> 6\u001b[0;31m         max_sweeps=INFINITELY_REPEAT if is_training else 1)\n\u001b[0m",
      "\u001b[0;32m/home/vlad/anaconda3/lib/python3.5/site-packages/cntk/io/__init__.py\u001b[0m in \u001b[0;36m__init__\u001b[0;34m(self, deserializers, max_samples, max_sweeps, randomization_window_in_chunks, randomization_window_in_samples, randomization_seed, trace_level, multithreaded_deserializer, frame_mode, truncation_length, randomize)\u001b[0m\n\u001b[1;32m    191\u001b[0m             \u001b[0mconfig\u001b[0m\u001b[0;34m.\u001b[0m\u001b[0mrandomization_window_in_samples\u001b[0m \u001b[0;34m=\u001b[0m \u001b[0;36m0\u001b[0m\u001b[0;34m\u001b[0m\u001b[0m\n\u001b[1;32m    192\u001b[0m \u001b[0;34m\u001b[0m\u001b[0m\n\u001b[0;32m--> 193\u001b[0;31m         \u001b[0msource\u001b[0m \u001b[0;34m=\u001b[0m \u001b[0mcntk_py\u001b[0m\u001b[0;34m.\u001b[0m\u001b[0mcreate_composite_minibatch_source\u001b[0m\u001b[0;34m(\u001b[0m\u001b[0mconfig\u001b[0m\u001b[0;34m)\u001b[0m\u001b[0;34m\u001b[0m\u001b[0m\n\u001b[0m\u001b[1;32m    194\u001b[0m         \u001b[0;31m# transplant into this class instance\u001b[0m\u001b[0;34m\u001b[0m\u001b[0;34m\u001b[0m\u001b[0m\n\u001b[1;32m    195\u001b[0m         \u001b[0mself\u001b[0m\u001b[0;34m.\u001b[0m\u001b[0m__dict__\u001b[0m \u001b[0;34m=\u001b[0m \u001b[0msource\u001b[0m\u001b[0;34m.\u001b[0m\u001b[0m__dict__\u001b[0m\u001b[0;34m\u001b[0m\u001b[0m\n",
      "\u001b[0;31mRuntimeError\u001b[0m: error opening file '/home/vlad/work/text_clas/data/../../../Tests/EndToEndTests/Text/SequenceClassification/Data/Train.ctf': No such file or directory\n\n[CALL STACK]\n[0x7fdafbdb7a5c]                                                       + 0x52ba5c\n[0x7fdafb063c1b]    fopenOrDie  (std::basic_string<wchar_t,std::char_traits<wchar_t>,std::allocator<wchar_t>> const&,  wchar_t const*) + 0x22b\n[0x7fda401f3795]    Microsoft::MSR::CNTK::TextParser<float>::Initialize()::{lambda()#1}::  operator()  () const + 0x3b5\n[0x7fda401f3953]    Microsoft::MSR::CNTK::TextParser<float>::  Initialize  () + 0x43\n[0x7fda401fd49b]    Microsoft::MSR::CNTK::TextParser<float>::  TextParser  (std::shared_ptr<Microsoft::MSR::CNTK::CorpusDescriptor>,  Microsoft::MSR::CNTK::TextConfigHelper const&,  bool) + 0x8b\n[0x7fda401eac2e]    CreateDeserializer                                 + 0x1be\n[0x7fda4042a10b]    Microsoft::MSR::CNTK::CompositeDataReader::  CreateDeserializer  (Microsoft::MSR::CNTK::ConfigParameters const&,  bool) + 0x1cb\n[0x7fda4042a53e]    Microsoft::MSR::CNTK::CompositeDataReader::  CreateDeserializers  (Microsoft::MSR::CNTK::ConfigParameters const&) + 0x25e\n[0x7fda4042aece]    Microsoft::MSR::CNTK::CompositeDataReader::  CompositeDataReader  (Microsoft::MSR::CNTK::ConfigParameters const&) + 0x79e\n[0x7fda40434f06]    CreateCompositeDataReader                          + 0x26\n[0x7fdafbe12959]    CNTK::CompositeMinibatchSource::  CompositeMinibatchSource  (CNTK::MinibatchSourceConfig const&) + 0x629\n[0x7fdafbe131e7]    CNTK::  CreateCompositeMinibatchSource  (CNTK::MinibatchSourceConfig const&) + 0x27\n[0x7fdafc7872f9]                                                       + 0xea2f9\n[0x7fdb278c65e9]    PyCFunction_Call                                   + 0xf9\n[0x7fdb2794dbd5]    PyEval_EvalFrameEx                                 + 0x8fb5\n[0x7fdb2794eb49]                                                       + 0x144b49\n[0x7fdb2794ecd8]    PyEval_EvalCodeEx                                  + 0x48\n[0x7fdb278a4661]                                                       + 0x9a661\n[0x7fdb27871236]    PyObject_Call                                      + 0x56\n[0x7fdb2788d77c]                                                       + 0x8377c\n[0x7fdb27871236]    PyObject_Call                                      + 0x56\n[0x7fdb278e24c3]                                                       + 0xd84c3\n[0x7fdb278d8daf]                                                       + 0xcedaf\n[0x7fdb27871236]    PyObject_Call                                      + 0x56\n[0x7fdb2794b314]    PyEval_EvalFrameEx                                 + 0x66f4\n[0x7fdb2794e166]    PyEval_EvalFrameEx                                 + 0x9546 (x2)\n[0x7fdb2794eb49]                                                       + 0x144b49\n[0x7fdb2794ecd8]    PyEval_EvalCodeEx                                  + 0x48\n[0x7fdb2794ed1b]    PyEval_EvalCode                                    + 0x3b\n[0x7fdb27941dfe]                                                       + 0x137dfe\n[0x7fdb278c65e9]    PyCFunction_Call                                   + 0xf9\n[0x7fdb2794dbd5]    PyEval_EvalFrameEx                                 + 0x8fb5\n[0x7fdb2794eb49]                                                       + 0x144b49\n[0x7fdb2794ddf5]    PyEval_EvalFrameEx                                 + 0x91d5\n[0x7fdb2794eb49]                                                       + 0x144b49\n[0x7fdb2794ddf5]    PyEval_EvalFrameEx                                 + 0x91d5\n[0x7fdb2794eb49]                                                       + 0x144b49\n[0x7fdb2794ecd8]    PyEval_EvalCodeEx                                  + 0x48\n[0x7fdb278a4661]                                                       + 0x9a661\n[0x7fdb27871236]    PyObject_Call                                      + 0x56\n[0x7fdb2794b234]    PyEval_EvalFrameEx                                 + 0x6614\n[0x7fdb2794eb49]                                                       + 0x144b49\n[0x7fdb2794ddf5]    PyEval_EvalFrameEx                                 + 0x91d5\n[0x7fdb2794eb49]                                                       + 0x144b49\n[0x7fdb2794ddf5]    PyEval_EvalFrameEx                                 + 0x91d5\n[0x7fdb2794e166]    PyEval_EvalFrameEx                                 + 0x9546 (x2)\n[0x7fdb2794eb49]                                                       + 0x144b49\n[0x7fdb2794ecd8]    PyEval_EvalCodeEx                                  + 0x48\n[0x7fdb278a4661]                                                       + 0x9a661\n[0x7fdb27871236]    PyObject_Call                                      + 0x56\n[0x7fdb2794b234]    PyEval_EvalFrameEx                                 + 0x6614\n[0x7fdb2794eb49]                                                       + 0x144b49\n[0x7fdb2794ecd8]    PyEval_EvalCodeEx                                  + 0x48\n[0x7fdb278a4661]                                                       + 0x9a661\n[0x7fdb27871236]    PyObject_Call                                      + 0x56\n[0x7fdb2794b234]    PyEval_EvalFrameEx                                 + 0x6614\n[0x7fdb2794eb49]                                                       + 0x144b49\n[0x7fdb2794ddf5]    PyEval_EvalFrameEx                                 + 0x91d5\n[0x7fdb2794e166]    PyEval_EvalFrameEx                                 + 0x9546\n[0x7fdb2794eb49]                                                       + 0x144b49\n[0x7fdb2794ecd8]    PyEval_EvalCodeEx                                  + 0x48\n[0x7fdb278a4661]                                                       + 0x9a661\n[0x7fdb27871236]    PyObject_Call                                      + 0x56\n[0x7fdb2794b234]    PyEval_EvalFrameEx                                 + 0x6614\n[0x7fdb2794eb49]                                                       + 0x144b49\n[0x7fdb2794ddf5]    PyEval_EvalFrameEx                                 + 0x91d5\n[0x7fdb2794e166]    PyEval_EvalFrameEx                                 + 0x9546\n[0x7fdb2794eb49]                                                       + 0x144b49\n[0x7fdb2794ddf5]    PyEval_EvalFrameEx                                 + 0x91d5\n[0x7fdb2794e166]    PyEval_EvalFrameEx                                 + 0x9546\n[0x7fdb2794eb49]                                                       + 0x144b49\n[0x7fdb2794ddf5]    PyEval_EvalFrameEx                                 + 0x91d5\n[0x7fdb2794eb49]                                                       + 0x144b49\n[0x7fdb2794ecd8]    PyEval_EvalCodeEx                                  + 0x48\n[0x7fdb2794ed1b]    PyEval_EvalCode                                    + 0x3b\n[0x7fdb27941dfe]                                                       + 0x137dfe\n[0x7fdb278c65e9]    PyCFunction_Call                                   + 0xf9\n[0x7fdb2794dbd5]    PyEval_EvalFrameEx                                 + 0x8fb5\n[0x7fdb2794eb49]                                                       + 0x144b49\n[0x7fdb2794ddf5]    PyEval_EvalFrameEx                                 + 0x91d5\n[0x7fdb2794eb49]                                                       + 0x144b49\n[0x7fdb2794ecd8]    PyEval_EvalCodeEx                                  + 0x48\n[0x7fdb278a4542]                                                       + 0x9a542\n[0x7fdb27871236]    PyObject_Call                                      + 0x56\n[0x7fdb2798f8a2]                                                       + 0x1858a2\n[0x7fdb27990565]    Py_Main                                            + 0x945\n[0x400add]          main                                               + 0x15d\n[0x7fdb2692c830]    __libc_start_main                                  + 0xf0\n[0x4008b9]                                                            \n"
     ]
    }
   ],
   "source": [
    "error, _ = train_sequence_classifier()"
   ]
  },
  {
   "cell_type": "code",
   "execution_count": null,
   "metadata": {
    "collapsed": false
   },
   "outputs": [],
   "source": []
  },
  {
   "cell_type": "raw",
   "metadata": {},
   "source": []
  }
 ],
 "metadata": {
  "anaconda-cloud": {},
  "kernelspec": {
   "display_name": "Python [default]",
   "language": "python",
   "name": "python3"
  },
  "language_info": {
   "codemirror_mode": {
    "name": "ipython",
    "version": 3
   },
   "file_extension": ".py",
   "mimetype": "text/x-python",
   "name": "python",
   "nbconvert_exporter": "python",
   "pygments_lexer": "ipython3",
   "version": "3.5.2"
  }
 },
 "nbformat": 4,
 "nbformat_minor": 1
}

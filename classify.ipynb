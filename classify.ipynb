{
 "cells": [
  {
   "cell_type": "code",
   "execution_count": 1,
   "metadata": {
    "collapsed": true
   },
   "outputs": [],
   "source": [
    "import sys\n",
    "import os\n",
    "import numpy as np\n",
    "import random\n",
    "import re\n",
    "import pytz\n",
    "from datetime import datetime\n",
    "from cntk import Trainer, Axis\n",
    "from cntk.io import MinibatchSource, CTFDeserializer, StreamDef, StreamDefs,\\\n",
    "        INFINITELY_REPEAT\n",
    "from cntk.learners import sgd, learning_rate_schedule, UnitType\n",
    "from cntk import input_variable, cross_entropy_with_softmax, \\\n",
    "        classification_error, sequence\n",
    "from cntk.logging import ProgressPrinter\n",
    "from cntk.layers import Sequential, Embedding, Recurrence, LSTM, Dense\n",
    "from sklearn import preprocessing\n",
    "from email.parser import Parser"
   ]
  },
  {
   "cell_type": "code",
   "execution_count": 2,
   "metadata": {
    "collapsed": false
   },
   "outputs": [],
   "source": [
    "def load_emails(path):\n",
    "    # Reads emails from foulders where foulder is a category dataset\n",
    "    categories = os.listdir(path)\n",
    "    for c in categories:\n",
    "        if c[0] == '.':\n",
    "            categories.remove(c)\n",
    "    emails = []\n",
    "    for direc in categories:\n",
    "        files = os.listdir(path + \"/\" + direc)\n",
    "        f = []\n",
    "        for file in files:\n",
    "            file = open(path + \"/\" + direc + \"/\" + file)\n",
    "            parser = Parser()\n",
    "            email = parser.parse(file)\n",
    "            f.append(email)\n",
    "        emails.append(f)\n",
    "    return categories, emails"
   ]
  },
  {
   "cell_type": "code",
   "execution_count": 3,
   "metadata": {
    "collapsed": false
   },
   "outputs": [],
   "source": [
    "def load_articles():\n",
    "    #Reads articles data\n",
    "    train_p = \"data/20ng-train-all-terms.txt\"\n",
    "    test_p = \"data/20ng-test-all-terms.txt\"\n",
    "\n",
    "    f_train = open(train_p)\n",
    "    f_test = open(test_p)\n",
    "    \n",
    "    train = f_train.readlines()\n",
    "    test = f_test.readlines()\n",
    "    \n",
    "    f_train.close()\n",
    "    f_test.close()\n",
    "    return train, test"
   ]
  },
  {
   "cell_type": "code",
   "execution_count": 4,
   "metadata": {
    "collapsed": false
   },
   "outputs": [],
   "source": [
    "def make_dataset(data):\n",
    "    # Process articles \n",
    "    labels = []\n",
    "    features = []\n",
    "    \n",
    "    for n, line in enumerate(data, 1):\n",
    "        l = line.partition('\\t')\n",
    "        labels.append(l[0])\n",
    "        features.append(l[2].split(' '))\n",
    "    return features, labels"
   ]
  },
  {
   "cell_type": "code",
   "execution_count": 5,
   "metadata": {
    "collapsed": false
   },
   "outputs": [],
   "source": [
    "def read_embedding(path):\n",
    "    # Reads CBOW embedding file and converts it to a dictionary \n",
    "    file = open(path)\n",
    "    lines = file.readlines()\n",
    "    word2vec = {}\n",
    "    dictionary, vector_len = lines[:-1].pop(0).split(' ')\n",
    "    dictionary_len = int(dictionary)\n",
    "    vector_len = int(vector_len)\n",
    "    for l in lines:\n",
    "        arr = l[:-1].split(' ')\n",
    "        w = arr[0]\n",
    "        arr = arr[1:]\n",
    "        word2vec[w] = arr\n",
    "    return word2vec"
   ]
  },
  {
   "cell_type": "code",
   "execution_count": 6,
   "metadata": {
    "collapsed": false
   },
   "outputs": [],
   "source": [
    "def one_hot_encode(labels):\n",
    "    #Reads labels and one hot encode them\n",
    "    le = preprocessing.LabelEncoder()\n",
    "    le.fit(labels)\n",
    "    labels_arr = le.fit_transform(labels)\n",
    "    \n",
    "    labels = np.zeros((len(labels_arr), num_classes), dtype=\"float32\")\n",
    "    for i in range(len(labels_arr)):\n",
    "        labels[i][labels_arr[i]] = 1\n",
    "    return labels"
   ]
  },
  {
   "cell_type": "code",
   "execution_count": 7,
   "metadata": {
    "collapsed": false
   },
   "outputs": [],
   "source": [
    "def extract_text(data, fields):\n",
    "    # Extract plain text from all the emails and store it to a text file for CBOW\n",
    "    file = open(\"extracted_text\", 'w')\n",
    "    addresses = open(\"addresses\", 'w')\n",
    "    for clas in data:\n",
    "        for email in clas:\n",
    "            text = email.get_payload()\n",
    "            file.write(clear_text(text))\n",
    "                        \n",
    "            # addresses\n",
    "            for field in fields:\n",
    "                address = get_addresses(email[field])\n",
    "                if address != []:\n",
    "                    addresses.write(' '.join(address) + ' ')"
   ]
  },
  {
   "cell_type": "code",
   "execution_count": 8,
   "metadata": {
    "collapsed": true
   },
   "outputs": [],
   "source": [
    "from stop_words import get_stop_words\n",
    "stop = get_stop_words('en')\n",
    "def clear_text(email):\n",
    "    text = ''.join([i for i in email if i.isalpha() or i.isspace()])\n",
    "    text = re.split(r'[\\n \\t]+', text.lower())\n",
    "    text = [i for i in text if i not in stop and len(i) > 2]\n",
    "    return ' '.join(text) + ' '"
   ]
  },
  {
   "cell_type": "code",
   "execution_count": null,
   "metadata": {
    "collapsed": false
   },
   "outputs": [],
   "source": []
  },
  {
   "cell_type": "code",
   "execution_count": 9,
   "metadata": {
    "collapsed": true
   },
   "outputs": [],
   "source": [
    "universal = pytz.timezone (\"UTC\")\n",
    "beginning_of_times = datetime(2000, 1, 1, 0, 0, 0, 0, universal)\n",
    "\n",
    "def get_date(email):\n",
    "    # extracts date from email and converts it to a feature\n",
    "    date = datetime.strptime(email['Date'][:-6], '%a, %d %b %Y %H:%M:%S %z')\n",
    "    date_f = [0] * 100\n",
    "    delta = beginning_of_times-date.astimezone(universal)\n",
    "    date_f[0] = delta.total_seconds()\n",
    "    date_f[1] = delta.days \n",
    "    date_f[2] = delta.days // 30\n",
    "    date_f[3] = delta.days // 365\n",
    "    \n",
    "    date_f[10] = date.isoweekday()  \n",
    "    date_f[11] = date.year\n",
    "    date_f[12] = date.month\n",
    "    date_f[13] = date.hour\n",
    "    \n",
    "    return date_f"
   ]
  },
  {
   "cell_type": "code",
   "execution_count": 10,
   "metadata": {
    "collapsed": false
   },
   "outputs": [],
   "source": [
    "def get_addresses(line):\n",
    "    # returns email addresses from line\n",
    "    if line == None or len(line) < 8:\n",
    "        return []\n",
    "    addresses = []\n",
    "    address = re.split(r'[,/<>]+', line)\n",
    "    for adr in address:\n",
    "        adr = ''.join([i for i in adr if not i.isspace() and i!= '\\''])\n",
    "        if len(adr) < 8:\n",
    "            continue\n",
    "        if adr[0] == '.':\n",
    "            adr = adr[1:]\n",
    "        if adr[-1] == '.':\n",
    "            adr = adr[:-1]\n",
    "                \n",
    "        if '@' in adr and '.' in adr:\n",
    "            addresses.append(adr.lower())\n",
    "    return addresses"
   ]
  },
  {
   "cell_type": "code",
   "execution_count": 11,
   "metadata": {
    "collapsed": true
   },
   "outputs": [],
   "source": [
    "fields = [\"To\", \"From\", \"Cc\", \"Bcc\", 'X-From', 'X-To', 'X-cc', 'X-bcc', 'X-Origin',]"
   ]
  },
  {
   "cell_type": "markdown",
   "metadata": {},
   "source": [
    "## Emails"
   ]
  },
  {
   "cell_type": "code",
   "execution_count": 83,
   "metadata": {
    "collapsed": false
   },
   "outputs": [],
   "source": [
    "categories, data = load_emails(\"enron\")\n",
    "num_classes = len(categories)\n",
    "labels = []\n",
    "for i in range(len(categories)):\n",
    "    labels += [categories[i]] * len(data[i])"
   ]
  },
  {
   "cell_type": "code",
   "execution_count": null,
   "metadata": {
    "collapsed": true
   },
   "outputs": [],
   "source": [
    "extract_text(data, fields)"
   ]
  },
  {
   "cell_type": "code",
   "execution_count": 70,
   "metadata": {
    "collapsed": false
   },
   "outputs": [],
   "source": [
    "word2vec = read_embedding(\"w2v\")\n",
    "adr2vec = read_embedding(\"adr2v\")"
   ]
  },
  {
   "cell_type": "code",
   "execution_count": 84,
   "metadata": {
    "collapsed": false
   },
   "outputs": [],
   "source": [
    "# Replace email content with vectors\n",
    "features_vec = []\n",
    "for direct in data:\n",
    "    for email in direct:\n",
    "        #\"\"\"\n",
    "        seq = []\n",
    "        em = email.get_payload()\n",
    "        # Remove all non-alphabetic characters \n",
    "        cleared = ''.join([i for i in em if i.isalpha() or i.isspace()])\n",
    "        \n",
    "        for word in cleared.split():\n",
    "            word = word.lower()\n",
    "            cbow = word2vec.get(word)\n",
    "            if cbow != None:\n",
    "                seq += [cbow]\n",
    "\n",
    "        # add subject\n",
    "        subj = email[\"Subject\"].lower().split(' ')\n",
    "        for word in subj:\n",
    "            cbow = word2vec.get(word)\n",
    "            if cbow != None:\n",
    "                seq += [cbow]\n",
    "        #\"\"\"        \n",
    "        #seq = []\n",
    "        #\"\"\"\n",
    "        # Add addresses as features\n",
    "        for field in fields:\n",
    "            addresses = get_addresses(email[field])\n",
    "            for adr in addresses:\n",
    "                cbow = adr2vec.get(adr)\n",
    "                if cbow != None:\n",
    "                    seq += [cbow]       \n",
    "                   \n",
    "        # Date\n",
    "        seq.append(get_date(email)) \n",
    "        \n",
    "        features_vec.append(np.array(seq, dtype=\"float32\"))"
   ]
  },
  {
   "cell_type": "code",
   "execution_count": 85,
   "metadata": {
    "collapsed": false
   },
   "outputs": [],
   "source": [
    "# Shuffle features and labels\n",
    "l, f = [], []\n",
    "index_shuf = list(range(len(labels)))\n",
    "random.shuffle(index_shuf)\n",
    "for i in index_shuf:\n",
    "    l.append(labels[i])\n",
    "    f.append(features_vec[i])\n",
    "labels = one_hot_encode(l)\n",
    "features_vec = f"
   ]
  },
  {
   "cell_type": "code",
   "execution_count": 86,
   "metadata": {
    "collapsed": true
   },
   "outputs": [],
   "source": [
    "# Split dataset for training and testing \n",
    "n = len(labels)//10*8\n",
    "labels, test_l = labels[:n], labels[n:]\n",
    "features_vec, test_v = features_vec[:n], features_vec[n:]"
   ]
  },
  {
   "cell_type": "markdown",
   "metadata": {},
   "source": [
    "## Articles"
   ]
  },
  {
   "cell_type": "code",
   "execution_count": 60,
   "metadata": {
    "collapsed": false
   },
   "outputs": [],
   "source": [
    "# Reads data and preprocesses lables \n",
    "num_classes = 20\n",
    "train, test = load_articles()\n",
    "random.shuffle(train)\n",
    "random.shuffle(test)\n",
    "features, labels = make_dataset(train)\n",
    "test_f, test_l = make_dataset(test)\n",
    "\n",
    "labels = one_hot_encode(labels)\n",
    "test_l = one_hot_encode(test_l)"
   ]
  },
  {
   "cell_type": "code",
   "execution_count": 62,
   "metadata": {
    "collapsed": false
   },
   "outputs": [],
   "source": [
    "# Replaces words by their vector representations \n",
    "features_vec = []\n",
    "for feat in features:\n",
    "    seq = []\n",
    "    for word in feat:\n",
    "        seq += [word2vec.get(word, [0] * vector_len)]\n",
    "    features_vec.append(np.array(seq, dtype=\"float32\"))\n",
    "\n",
    "test = []\n",
    "for feat in test_f:\n",
    "    seq = []\n",
    "    for word in feat:\n",
    "        seq += [word2vec.get(word, [0] * vector_len)]\n",
    "    test.append(np.array(seq, dtype=\"float32\"))"
   ]
  },
  {
   "cell_type": "markdown",
   "metadata": {
    "collapsed": false
   },
   "source": [
    "## CNTK "
   ]
  },
  {
   "cell_type": "code",
   "execution_count": 87,
   "metadata": {
    "collapsed": true
   },
   "outputs": [],
   "source": [
    "# Defines the LSTM model for classifying sequences\n",
    "def LSTM_sequence_classifier_net(input, num_output_classes, embedding_dim,\n",
    "                                LSTM_dim, cell_dim):\n",
    "    lstm_classifier = Sequential([Embedding(embedding_dim),\n",
    "                                  Recurrence(LSTM(LSTM_dim, cell_dim)),\n",
    "                                  sequence.last,\n",
    "                                  Dense(num_output_classes)])\n",
    "    return lstm_classifier(input)"
   ]
  },
  {
   "cell_type": "code",
   "execution_count": 88,
   "metadata": {
    "collapsed": false
   },
   "outputs": [
    {
     "name": "stdout",
     "output_type": "stream",
     "text": [
      " average      since    average      since      examples\n",
      "    loss       last     metric       last              \n",
      " ------------------------------------------------------\n"
     ]
    }
   ],
   "source": [
    "# Creates and trains a LSTM sequence classification model\n",
    "input_dim = 100\n",
    "cell_dim = 100\n",
    "hidden_dim = 100\n",
    "embedding_dim = 200\n",
    "\n",
    "num_output_classes = num_classes\n",
    "\n",
    "# Input variables denoting the features and label data\n",
    "features = sequence.input_variable(shape=input_dim)\n",
    "label = input_variable(num_output_classes)\n",
    "\n",
    "# Instantiate the sequence classification model\n",
    "classifier_output = LSTM_sequence_classifier_net(\n",
    "        features, num_output_classes, embedding_dim, hidden_dim, cell_dim)\n",
    "\n",
    "    \n",
    "ce = cross_entropy_with_softmax(classifier_output, label)\n",
    "pe = classification_error(classifier_output, label)\n",
    " \n",
    "lr_per_sample = learning_rate_schedule(0.0005, UnitType.sample)\n",
    "    \n",
    "# Instantiate the trainer object to drive the model training\n",
    "progress_printer = ProgressPrinter(0)\n",
    "trainer = Trainer(classifier_output, (ce, pe),\n",
    "                      sgd(classifier_output.parameters, lr=lr_per_sample),\n",
    "                      progress_printer)"
   ]
  },
  {
   "cell_type": "code",
   "execution_count": 90,
   "metadata": {
    "collapsed": false
   },
   "outputs": [
    {
     "name": "stdout",
     "output_type": "stream",
     "text": [
      "     1.32       1.62      0.454        0.6        204600\n"
     ]
    }
   ],
   "source": [
    "# Get minibatches of sequences to train with and perform model training\n",
    "minibatch_size = 200\n",
    "for j in range(50):\n",
    "    i = 0\n",
    "    while (i + minibatch_size) < len(labels):\n",
    "        input_map = {\n",
    "            features : features_vec[i : i + minibatch_size], \n",
    "            label : labels[i : i + minibatch_size]\n",
    "        }\n",
    "        trainer.train_minibatch(input_map)\n",
    "        i += minibatch_size\n",
    "\n",
    "evaluation_average = float(trainer.previous_minibatch_evaluation_average)\n",
    "loss_average = float(trainer.previous_minibatch_loss_average)"
   ]
  },
  {
   "cell_type": "code",
   "execution_count": 91,
   "metadata": {
    "collapsed": false
   },
   "outputs": [
    {
     "name": "stdout",
     "output_type": "stream",
     "text": [
      "0.5930232558139535\n"
     ]
    }
   ],
   "source": [
    "# Test the model\n",
    "n = len(test_v)\n",
    "e = 0\n",
    "for i in range(n):\n",
    "    l = np.argmax(test_l[i])\n",
    "    ar = classifier_output.eval(test_v[i])[0]\n",
    "    p = np.argmax(ar)\n",
    "    if p != l:\n",
    "        e += 1\n",
    "print(e/n)"
   ]
  },
  {
   "cell_type": "code",
   "execution_count": 76,
   "metadata": {
    "collapsed": true
   },
   "outputs": [],
   "source": [
    "#trainer.save_checkpoint('saved_trainers/nn.trainer_emails_text') "
   ]
  },
  {
   "cell_type": "code",
   "execution_count": 23,
   "metadata": {
    "collapsed": false
   },
   "outputs": [
    {
     "name": "stdout",
     "output_type": "stream",
     "text": [
      "2112 13\n"
     ]
    }
   ],
   "source": [
    "print(len(labels), len(data))"
   ]
  },
  {
   "cell_type": "code",
   "execution_count": 79,
   "metadata": {
    "collapsed": false
   },
   "outputs": [
    {
     "data": {
      "text/plain": [
       "{}"
      ]
     },
     "execution_count": 79,
     "metadata": {},
     "output_type": "execute_result"
    }
   ],
   "source": [
    "#trainer.restore_from_checkpoint('saved_trainers/nn.trainer_emails_text')"
   ]
  },
  {
   "cell_type": "code",
   "execution_count": null,
   "metadata": {
    "collapsed": true
   },
   "outputs": [],
   "source": []
  }
 ],
 "metadata": {
  "anaconda-cloud": {},
  "kernelspec": {
   "display_name": "Python [default]",
   "language": "python",
   "name": "python3"
  },
  "language_info": {
   "codemirror_mode": {
    "name": "ipython",
    "version": 3
   },
   "file_extension": ".py",
   "mimetype": "text/x-python",
   "name": "python",
   "nbconvert_exporter": "python",
   "pygments_lexer": "ipython3",
   "version": "3.5.2"
  }
 },
 "nbformat": 4,
 "nbformat_minor": 1
}

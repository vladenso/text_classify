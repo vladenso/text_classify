{
 "cells": [
  {
   "cell_type": "code",
   "execution_count": 1,
   "metadata": {
    "collapsed": true
   },
   "outputs": [],
   "source": [
    "import sys\n",
    "import os\n",
    "import numpy as np\n",
    "from cntk import Trainer, Axis\n",
    "from cntk.io import MinibatchSource, CTFDeserializer, StreamDef, StreamDefs,\\\n",
    "        INFINITELY_REPEAT\n",
    "from cntk.learners import sgd, learning_rate_schedule, UnitType\n",
    "from cntk import input_variable, cross_entropy_with_softmax, \\\n",
    "        classification_error, sequence\n",
    "from cntk.logging import ProgressPrinter\n",
    "from cntk.layers import Sequential, Embedding, Recurrence, LSTM, Dense\n",
    "from email.parser import Parser\n",
    "import random"
   ]
  },
  {
   "cell_type": "code",
   "execution_count": 38,
   "metadata": {
    "collapsed": true
   },
   "outputs": [],
   "source": []
  },
  {
   "cell_type": "code",
   "execution_count": 2,
   "metadata": {
    "collapsed": false
   },
   "outputs": [],
   "source": [
    "def read_w3():\n",
    "    categories = os.listdir(\"williams-w3\")\n",
    "\n",
    "    for c in categories:\n",
    "        if c[0] == '.':\n",
    "            categories.remove(c)\n",
    "\n",
    "    emails = []\n",
    "    for direc in categories:\n",
    "        files = os.listdir(\"williams-w3/\" + direc)\n",
    "        f = []\n",
    "        for file in files:\n",
    "            file = open(\"williams-w3/\" + direc + \"/\" + file)\n",
    "            parser = Parser()\n",
    "            email = parser.parse(file)\n",
    "            f.append(email)\n",
    "        emails.append(f)\n",
    "    return categories, emails"
   ]
  },
  {
   "cell_type": "code",
   "execution_count": 3,
   "metadata": {
    "collapsed": false
   },
   "outputs": [],
   "source": [
    "def extract_text(data):\n",
    "    # Extract plain text for CBOW\n",
    "    file = open(\"extracted_text\", 'w')\n",
    "    for clas in data:\n",
    "        for email in clas:\n",
    "            em = email.get_payload()\n",
    "            file.write(em) "
   ]
  },
  {
   "cell_type": "code",
   "execution_count": null,
   "metadata": {
    "collapsed": true
   },
   "outputs": [],
   "source": []
  },
  {
   "cell_type": "code",
   "execution_count": 4,
   "metadata": {
    "collapsed": false
   },
   "outputs": [],
   "source": [
    "def read_data():\n",
    "    train_p = \"data/20ng-train-all-terms.txt\"\n",
    "    test_p = \"data/20ng-test-all-terms.txt\"\n",
    "\n",
    "    f_train = open(train_p)\n",
    "    f_test = open(test_p)\n",
    "    \n",
    "    train = f_train.readlines()\n",
    "    test = f_test.readlines()\n",
    "    \n",
    "    f_train.close()\n",
    "    f_test.close()\n",
    "    return train, test"
   ]
  },
  {
   "cell_type": "code",
   "execution_count": 5,
   "metadata": {
    "collapsed": false
   },
   "outputs": [],
   "source": [
    "def make_dataset(data):\n",
    "    n = 100\n",
    "    labels = []\n",
    "    features = []\n",
    "    \n",
    "    for n, line in enumerate(data, 1):\n",
    "        l = line.partition('\\t')\n",
    "        labels.append(l[0])\n",
    "        features.append(l[2].split(' '))\n",
    "    return features, labels"
   ]
  },
  {
   "cell_type": "code",
   "execution_count": 6,
   "metadata": {
    "collapsed": false
   },
   "outputs": [],
   "source": [
    "def one_hot_encode(labels):\n",
    "    #Reads labels and one hot encode them\n",
    "    from sklearn import preprocessing\n",
    "    le = preprocessing.LabelEncoder()\n",
    "    le.fit(labels)\n",
    "    labels_arr = le.fit_transform(labels)\n",
    "\n",
    "    labels = np.zeros((len(labels_arr), num_classes), dtype=\"float32\")\n",
    "    for i in range(len(labels_arr)):\n",
    "        labels[i][labels_arr[i]] = 1\n",
    "    return labels"
   ]
  },
  {
   "cell_type": "code",
   "execution_count": 22,
   "metadata": {
    "collapsed": false
   },
   "outputs": [],
   "source": [
    "# Reads CBOW embeding file and converts it to a dictionary \n",
    "path_w2v = \"w2v_2\"\n",
    "file_w2v = open(path_w2v)\n",
    "lines = file_w2v.readlines()\n",
    "word2vec = {}\n",
    "dictionary, vector_len = lines[:-1].pop(0).split(' ')\n",
    "dictionary_len = int(dictionary)\n",
    "vector_len = int(vector_len)\n",
    "for l in lines:\n",
    "    arr = l[:-1].split(' ')\n",
    "    w = arr[0]\n",
    "    arr = arr[1:] #list(map(float, arr[1:]))\n",
    "    word2vec[w] = arr"
   ]
  },
  {
   "cell_type": "markdown",
   "metadata": {},
   "source": [
    "## Emails"
   ]
  },
  {
   "cell_type": "code",
   "execution_count": 50,
   "metadata": {
    "collapsed": false
   },
   "outputs": [],
   "source": [
    "categories, data = read_w3()\n",
    "extract_text(data)\n",
    "num_classes = len(categories)"
   ]
  },
  {
   "cell_type": "code",
   "execution_count": 51,
   "metadata": {
    "collapsed": false
   },
   "outputs": [],
   "source": [
    "labels = []\n",
    "for i in range(len(categories)):\n",
    "    labels += [categories[i]] * len(data[i])\n",
    "labels = one_hot_encode(labels)"
   ]
  },
  {
   "cell_type": "code",
   "execution_count": 52,
   "metadata": {
    "collapsed": false
   },
   "outputs": [],
   "source": [
    "features_vec = []\n",
    "for direct in data:\n",
    "    for email in direct:\n",
    "        seq = []\n",
    "        for word in email.get_payload():\n",
    "            cbow = word2vec.get(word)\n",
    "            if cbow != None:\n",
    "                seq += [cbow]\n",
    "        features_vec.append(np.array(seq, dtype=\"float32\"))"
   ]
  },
  {
   "cell_type": "code",
   "execution_count": 53,
   "metadata": {
    "collapsed": false
   },
   "outputs": [],
   "source": [
    "# Shuffle features and labels\n",
    "combined = list(zip(features_vec, labels))\n",
    "random.shuffle(combined)\n",
    "features_vec, labels = zip(*combined)"
   ]
  },
  {
   "cell_type": "markdown",
   "metadata": {},
   "source": [
    "## articles"
   ]
  },
  {
   "cell_type": "code",
   "execution_count": 39,
   "metadata": {
    "collapsed": false
   },
   "outputs": [],
   "source": [
    "num_classes = 20\n",
    "train, test = read_data()\n",
    "random.shuffle(train)\n",
    "random.shuffle(test)\n",
    "features, labels = make_dataset(train)\n",
    "test_f, test_l = make_dataset(test)\n",
    "\n",
    "labels = one_hot_encode(labels)\n",
    "test_l = one_hot_encode(test_l)"
   ]
  },
  {
   "cell_type": "code",
   "execution_count": 40,
   "metadata": {
    "collapsed": false
   },
   "outputs": [],
   "source": [
    "# Replaces words by their vector representations \n",
    "features_vec = []\n",
    "for feat in features:\n",
    "    seq = []\n",
    "    for word in feat:\n",
    "        seq += [word2vec.get(word, [0] * vector_len)]\n",
    "    features_vec.append(np.array(seq, dtype=\"float32\"))"
   ]
  },
  {
   "cell_type": "code",
   "execution_count": 26,
   "metadata": {
    "collapsed": false
   },
   "outputs": [],
   "source": [
    "test = []\n",
    "for feat in test_f:\n",
    "    seq = []\n",
    "    for word in feat:\n",
    "        seq += [word2vec.get(word, [0] * vector_len)]\n",
    "    test.append(np.array(seq, dtype=\"float32\"))"
   ]
  },
  {
   "cell_type": "code",
   "execution_count": null,
   "metadata": {
    "collapsed": false
   },
   "outputs": [],
   "source": []
  },
  {
   "cell_type": "code",
   "execution_count": 54,
   "metadata": {
    "collapsed": true
   },
   "outputs": [],
   "source": [
    "# Defines the LSTM model for classifying sequences\n",
    "def LSTM_sequence_classifier_net(input, num_output_classes, embedding_dim,\n",
    "                                LSTM_dim, cell_dim):\n",
    "    lstm_classifier = Sequential([Embedding(embedding_dim),\n",
    "                                  Recurrence(LSTM(LSTM_dim, cell_dim)),\n",
    "                                  sequence.last,\n",
    "                                  Dense(num_output_classes)])\n",
    "    return lstm_classifier(input)"
   ]
  },
  {
   "cell_type": "code",
   "execution_count": 55,
   "metadata": {
    "collapsed": false
   },
   "outputs": [
    {
     "name": "stdout",
     "output_type": "stream",
     "text": [
      " average      since    average      since      examples\n",
      "    loss       last     metric       last              \n",
      " ------------------------------------------------------\n"
     ]
    }
   ],
   "source": [
    "# Creates and trains a LSTM sequence classification model\n",
    "input_dim = 100\n",
    "cell_dim = 100\n",
    "hidden_dim = 100\n",
    "embedding_dim = 200\n",
    "\n",
    "num_output_classes = num_classes\n",
    "\n",
    "# Input variables denoting the features and label data\n",
    "features = sequence.input_variable(shape=input_dim)\n",
    "label = input_variable(num_output_classes)\n",
    "\n",
    "# Instantiate the sequence classification model\n",
    "classifier_output = LSTM_sequence_classifier_net(\n",
    "        features, num_output_classes, embedding_dim, hidden_dim, cell_dim)\n",
    "\n",
    "    \n",
    "ce = cross_entropy_with_softmax(classifier_output, label)\n",
    "pe = classification_error(classifier_output, label)\n",
    " \n",
    "lr_per_sample = learning_rate_schedule(0.01, UnitType.sample)\n",
    "    \n",
    "# Instantiate the trainer object to drive the model training\n",
    "progress_printer = ProgressPrinter(0)\n",
    "trainer = Trainer(classifier_output, (ce, pe),\n",
    "                      sgd(classifier_output.parameters, lr=lr_per_sample),\n",
    "                      progress_printer)"
   ]
  },
  {
   "cell_type": "code",
   "execution_count": 58,
   "metadata": {
    "collapsed": false
   },
   "outputs": [
    {
     "ename": "ValueError",
     "evalue": "if you specify sequence begin markers, it needs to be a list",
     "output_type": "error",
     "traceback": [
      "\u001b[0;31m---------------------------------------------------------------------------\u001b[0m",
      "\u001b[0;31mValueError\u001b[0m                                Traceback (most recent call last)",
      "\u001b[0;32m<ipython-input-58-82ffd8d13472>\u001b[0m in \u001b[0;36m<module>\u001b[0;34m()\u001b[0m\n\u001b[1;32m      8\u001b[0m             \u001b[0mlabel\u001b[0m \u001b[0;34m:\u001b[0m \u001b[0mlabels\u001b[0m\u001b[0;34m[\u001b[0m\u001b[0mi\u001b[0m \u001b[0;34m:\u001b[0m \u001b[0mi\u001b[0m \u001b[0;34m+\u001b[0m \u001b[0mminibatch_size\u001b[0m\u001b[0;34m]\u001b[0m\u001b[0;34m\u001b[0m\u001b[0m\n\u001b[1;32m      9\u001b[0m         }\n\u001b[0;32m---> 10\u001b[0;31m         \u001b[0mtrainer\u001b[0m\u001b[0;34m.\u001b[0m\u001b[0mtrain_minibatch\u001b[0m\u001b[0;34m(\u001b[0m\u001b[0minput_map\u001b[0m\u001b[0;34m)\u001b[0m\u001b[0;34m\u001b[0m\u001b[0m\n\u001b[0m\u001b[1;32m     11\u001b[0m         \u001b[0mi\u001b[0m \u001b[0;34m+=\u001b[0m \u001b[0mminibatch_size\u001b[0m\u001b[0;34m\u001b[0m\u001b[0m\n\u001b[1;32m     12\u001b[0m \u001b[0;34m\u001b[0m\u001b[0m\n",
      "\u001b[0;32m/home/vlad/anaconda3/lib/python3.5/site-packages/cntk/train/trainer.py\u001b[0m in \u001b[0;36mtrain_minibatch\u001b[0;34m(self, arguments, outputs, device)\u001b[0m\n\u001b[1;32m    143\u001b[0m                 \u001b[0mall_args\u001b[0m \u001b[0;34m|=\u001b[0m \u001b[0mset\u001b[0m\u001b[0;34m(\u001b[0m\u001b[0mself\u001b[0m\u001b[0;34m.\u001b[0m\u001b[0mevaluation_function\u001b[0m\u001b[0;34m.\u001b[0m\u001b[0marguments\u001b[0m\u001b[0;34m)\u001b[0m\u001b[0;34m\u001b[0m\u001b[0m\n\u001b[1;32m    144\u001b[0m             arguments = sanitize_var_map(tuple(all_args), arguments,\n\u001b[0;32m--> 145\u001b[0;31m                 extract_values_from_minibatch_data = False, device=device)\n\u001b[0m\u001b[1;32m    146\u001b[0m \u001b[0;34m\u001b[0m\u001b[0m\n\u001b[1;32m    147\u001b[0m         \u001b[0mcontains_minibatch_data\u001b[0m \u001b[0;34m=\u001b[0m \u001b[0;32mFalse\u001b[0m\u001b[0;34m\u001b[0m\u001b[0m\n",
      "\u001b[0;32m/home/vlad/anaconda3/lib/python3.5/site-packages/cntk/internal/sanitize.py\u001b[0m in \u001b[0;36msanitize_var_map\u001b[0;34m(op_arguments, arguments, precision, device, extract_values_from_minibatch_data)\u001b[0m\n\u001b[1;32m    412\u001b[0m                 \u001b[0;32mif\u001b[0m \u001b[0;32mnot\u001b[0m \u001b[0misinstance\u001b[0m\u001b[0;34m(\u001b[0m\u001b[0mseq_starts\u001b[0m\u001b[0;34m,\u001b[0m \u001b[0;34m(\u001b[0m\u001b[0mtuple\u001b[0m\u001b[0;34m,\u001b[0m \u001b[0mlist\u001b[0m\u001b[0;34m)\u001b[0m\u001b[0;34m)\u001b[0m\u001b[0;34m:\u001b[0m\u001b[0;34m\u001b[0m\u001b[0m\n\u001b[1;32m    413\u001b[0m                     raise ValueError(\n\u001b[0;32m--> 414\u001b[0;31m                         'if you specify sequence begin markers, it needs to be a list')\n\u001b[0m\u001b[1;32m    415\u001b[0m \u001b[0;34m\u001b[0m\u001b[0m\n\u001b[1;32m    416\u001b[0m                 sample_size = batch.shape[0] if hasattr(\n",
      "\u001b[0;31mValueError\u001b[0m: if you specify sequence begin markers, it needs to be a list"
     ]
    }
   ],
   "source": [
    "# Get minibatches of sequences to train with and perform model training\n",
    "minibatch_size = 2\n",
    "for j in range(50):\n",
    "    i = 0\n",
    "    while (i + minibatch_size) < len(labels):\n",
    "        input_map = {\n",
    "            features : features_vec[i : i + minibatch_size], \n",
    "            label : labels[i : i + minibatch_size]\n",
    "        }\n",
    "        trainer.train_minibatch(input_map)\n",
    "        i += minibatch_size\n",
    "\n",
    "evaluation_average = float(trainer.previous_minibatch_evaluation_average)\n",
    "loss_average = float(trainer.previous_minibatch_loss_average)"
   ]
  },
  {
   "cell_type": "code",
   "execution_count": 96,
   "metadata": {
    "collapsed": false
   },
   "outputs": [
    {
     "name": "stdout",
     "output_type": "stream",
     "text": [
      "0.09086078639744952\n"
     ]
    }
   ],
   "source": [
    "n = len(test)\n",
    "e = 0\n",
    "for i in range(n//10):\n",
    "    l = np.argmax(test_l[i])\n",
    "    ar = classifier_output.eval(test[i])[0]\n",
    "    p = np.argmax(ar)\n",
    "    #print(l, p)\n",
    "    #print(l, p, ar)\n",
    "    if p != l:\n",
    "        e += 1\n",
    "print(e/n)#/len(labels))"
   ]
  },
  {
   "cell_type": "code",
   "execution_count": 80,
   "metadata": {
    "collapsed": false
   },
   "outputs": [],
   "source": [
    "#trainer.save_checkpoint('nn.trainer_2') #50 50 100"
   ]
  },
  {
   "cell_type": "code",
   "execution_count": 95,
   "metadata": {
    "collapsed": true
   },
   "outputs": [],
   "source": [
    "#trainer.save_checkpoint('nn.trainer_3') #100 100 200 = 20"
   ]
  },
  {
   "cell_type": "code",
   "execution_count": null,
   "metadata": {
    "collapsed": false
   },
   "outputs": [],
   "source": [
    "trainer.restore_from_checkpoint('nn.trainer_3')"
   ]
  },
  {
   "cell_type": "code",
   "execution_count": null,
   "metadata": {
    "collapsed": false
   },
   "outputs": [],
   "source": [
    "trainer"
   ]
  },
  {
   "cell_type": "code",
   "execution_count": null,
   "metadata": {
    "collapsed": false
   },
   "outputs": [],
   "source": [
    "print(evaluation_average, loss_average)"
   ]
  },
  {
   "cell_type": "code",
   "execution_count": 44,
   "metadata": {
    "collapsed": false
   },
   "outputs": [
    {
     "data": {
      "text/plain": [
       "array([[  1.20011242e-02,   1.70068850e-03,  -5.80662638e-02,\n",
       "          1.85028054e-02,  -1.82034522e-02,   2.89715324e-02,\n",
       "          5.20967022e-02,  -2.37078443e-02,  -7.60851009e-03,\n",
       "          1.17672898e-01,   1.14210136e-02,  -1.70385838e-02,\n",
       "         -2.39737006e-03,   5.10595366e-02,   2.33134385e-02,\n",
       "          5.56765730e-03,   1.03521277e-04,  -4.58391495e-02,\n",
       "          3.86228971e-02,   4.54982556e-02]], dtype=float32)"
      ]
     },
     "execution_count": 44,
     "metadata": {},
     "output_type": "execute_result"
    }
   ],
   "source": [
    "classifier_output.eval(features_vec[2])"
   ]
  },
  {
   "cell_type": "code",
   "execution_count": 60,
   "metadata": {
    "collapsed": false
   },
   "outputs": [
    {
     "data": {
      "text/plain": [
       "array([ 0.,  0.,  0.,  0.,  0.,  0.,  0.,  0.,  0.,  0.,  0.,  0.,  0.,\n",
       "        1.,  0.,  0.,  0.,  0.], dtype=float32)"
      ]
     },
     "execution_count": 60,
     "metadata": {},
     "output_type": "execute_result"
    }
   ],
   "source": [
    "labels[0]"
   ]
  },
  {
   "cell_type": "code",
   "execution_count": 59,
   "metadata": {
    "collapsed": false
   },
   "outputs": [
    {
     "data": {
      "text/plain": [
       "array([[  1.02802059e-02,   1.12944457e-03,  -6.75620162e-04, ...,\n",
       "          5.55906864e-03,   7.63915386e-03,   1.21494848e-02],\n",
       "       [  1.17571997e-02,   5.94067480e-03,  -4.15221462e-03, ...,\n",
       "          1.92801822e-02,  -7.28491228e-03,  -2.34198477e-02],\n",
       "       [ -7.70202041e-01,  -8.02855670e-01,   6.06540859e-01, ...,\n",
       "          2.25412631e+00,  -1.47566736e-01,  -8.22424650e-01],\n",
       "       ..., \n",
       "       [  1.71973370e-02,   1.40202874e-02,   3.18695768e-03, ...,\n",
       "          3.25706266e-02,  -2.74990071e-02,  -5.30865043e-02],\n",
       "       [  6.12330716e-03,   1.05306841e-02,   7.69261550e-03, ...,\n",
       "          1.50847556e-02,  -7.48760300e-03,  -2.22821608e-02],\n",
       "       [  1.40346721e-01,   3.81773524e-02,  -5.00198156e-02, ...,\n",
       "          1.59575596e-01,   7.95756374e-03,  -8.64180103e-02]], dtype=float32)"
      ]
     },
     "execution_count": 59,
     "metadata": {},
     "output_type": "execute_result"
    }
   ],
   "source": [
    "features_vec[8]"
   ]
  },
  {
   "cell_type": "code",
   "execution_count": null,
   "metadata": {
    "collapsed": false
   },
   "outputs": [],
   "source": []
  },
  {
   "cell_type": "raw",
   "metadata": {},
   "source": []
  }
 ],
 "metadata": {
  "anaconda-cloud": {},
  "kernelspec": {
   "display_name": "Python [default]",
   "language": "python",
   "name": "python3"
  },
  "language_info": {
   "codemirror_mode": {
    "name": "ipython",
    "version": 3
   },
   "file_extension": ".py",
   "mimetype": "text/x-python",
   "name": "python",
   "nbconvert_exporter": "python",
   "pygments_lexer": "ipython3",
   "version": "3.5.2"
  }
 },
 "nbformat": 4,
 "nbformat_minor": 1
}
